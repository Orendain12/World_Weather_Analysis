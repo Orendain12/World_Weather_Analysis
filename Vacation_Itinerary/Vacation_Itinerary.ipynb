{
 "cells": [
  {
   "cell_type": "markdown",
   "metadata": {},
   "source": [
    "# Deliverable 3. Create a Travel Itinerary Map.\n",
    "----\n",
    "1. Import the vacation CSV file. \n",
    "2. From the map above with pick 4 cities that are in close proximity (on the same continent) that the customer would travel to and create a directions layer map.\n",
    "3. For the \"travel_mode\" use either \"DRIVING\", \"BICYCLING\", or \"WALKING\".\n",
    "4. Take a screenshot of the route and save it. \n",
    "5. Then create a marker layer for the four cities. Each city will should have a pop-up marker that contains\n",
    "    - The hotel name\n",
    "    - The city\n",
    "    - The country\n",
    "    - The current weather description and the maximum temperature\n",
    "---"
   ]
  },
  {
   "cell_type": "markdown",
   "metadata": {},
   "source": [
    "## Make sure the initial dependencies and the Google API key are imported."
   ]
  },
  {
   "cell_type": "code",
   "execution_count": 1,
   "metadata": {},
   "outputs": [],
   "source": [
    "#pip install gmaps"
   ]
  },
  {
   "cell_type": "code",
   "execution_count": 2,
   "metadata": {},
   "outputs": [],
   "source": [
    "# Dependencies and Setup\n",
    "import pandas as pd\n",
    "import requests\n",
    "import gmaps\n",
    "\n",
    "# Import API key\n",
    "from config import g_key"
   ]
  },
  {
   "cell_type": "code",
   "execution_count": 3,
   "metadata": {},
   "outputs": [],
   "source": [
    "# Configure gmaps\n",
    "gmaps.configure(api_key=g_key)"
   ]
  },
  {
   "cell_type": "code",
   "execution_count": 4,
   "metadata": {},
   "outputs": [
    {
     "name": "stderr",
     "output_type": "stream",
     "text": [
      "Enabling notebook extension jupyter-js-widgets/extension...\n",
      "      - Validating: ok\n"
     ]
    }
   ],
   "source": [
    "!jupyter nbextension enable --py --sys-prefix widgetsnbextension"
   ]
  },
  {
   "cell_type": "code",
   "execution_count": 5,
   "metadata": {},
   "outputs": [
    {
     "name": "stderr",
     "output_type": "stream",
     "text": [
      "Enabling notebook extension jupyter-gmaps/extension...\n",
      "      - Validating: ok\n"
     ]
    }
   ],
   "source": [
    "!jupyter nbextension enable --py --sys-prefix gmaps"
   ]
  },
  {
   "cell_type": "markdown",
   "metadata": {},
   "source": [
    "## From your `Vacation_Search` folder from Deliverable 2, import the `WeatherPy_vacation.csv` file as a DataFrame named `vacation_df`"
   ]
  },
  {
   "cell_type": "code",
   "execution_count": 6,
   "metadata": {},
   "outputs": [
    {
     "data": {
      "text/html": [
       "<div>\n",
       "<style scoped>\n",
       "    .dataframe tbody tr th:only-of-type {\n",
       "        vertical-align: middle;\n",
       "    }\n",
       "\n",
       "    .dataframe tbody tr th {\n",
       "        vertical-align: top;\n",
       "    }\n",
       "\n",
       "    .dataframe thead th {\n",
       "        text-align: right;\n",
       "    }\n",
       "</style>\n",
       "<table border=\"1\" class=\"dataframe\">\n",
       "  <thead>\n",
       "    <tr style=\"text-align: right;\">\n",
       "      <th></th>\n",
       "      <th>City_ID</th>\n",
       "      <th>City</th>\n",
       "      <th>Country</th>\n",
       "      <th>Max Temp</th>\n",
       "      <th>Lat</th>\n",
       "      <th>Lng</th>\n",
       "      <th>Weather Description</th>\n",
       "      <th>Hotel Name</th>\n",
       "    </tr>\n",
       "  </thead>\n",
       "  <tbody>\n",
       "    <tr>\n",
       "      <th>0</th>\n",
       "      <td>0</td>\n",
       "      <td>Belmonte</td>\n",
       "      <td>BR</td>\n",
       "      <td>72.28</td>\n",
       "      <td>-15.8631</td>\n",
       "      <td>-38.8828</td>\n",
       "      <td>overcast clouds</td>\n",
       "      <td>Pousada Monte Carmelo O Pão</td>\n",
       "    </tr>\n",
       "    <tr>\n",
       "      <th>1</th>\n",
       "      <td>5</td>\n",
       "      <td>Atuona</td>\n",
       "      <td>PF</td>\n",
       "      <td>78.51</td>\n",
       "      <td>-9.8000</td>\n",
       "      <td>-139.0333</td>\n",
       "      <td>scattered clouds</td>\n",
       "      <td>Villa Enata</td>\n",
       "    </tr>\n",
       "    <tr>\n",
       "      <th>2</th>\n",
       "      <td>8</td>\n",
       "      <td>Salalah</td>\n",
       "      <td>OM</td>\n",
       "      <td>78.89</td>\n",
       "      <td>17.0151</td>\n",
       "      <td>54.0924</td>\n",
       "      <td>few clouds</td>\n",
       "      <td>HAMDAN PLAZA HOTEL SALALAH, an HTG Hotel</td>\n",
       "    </tr>\n",
       "    <tr>\n",
       "      <th>3</th>\n",
       "      <td>10</td>\n",
       "      <td>Hilo</td>\n",
       "      <td>US</td>\n",
       "      <td>73.13</td>\n",
       "      <td>19.7297</td>\n",
       "      <td>-155.0900</td>\n",
       "      <td>overcast clouds</td>\n",
       "      <td>Hilo Hawaiian Hotel</td>\n",
       "    </tr>\n",
       "    <tr>\n",
       "      <th>4</th>\n",
       "      <td>16</td>\n",
       "      <td>Mumford</td>\n",
       "      <td>GH</td>\n",
       "      <td>78.40</td>\n",
       "      <td>5.2618</td>\n",
       "      <td>-0.7590</td>\n",
       "      <td>clear sky</td>\n",
       "      <td>Peace Guest House</td>\n",
       "    </tr>\n",
       "  </tbody>\n",
       "</table>\n",
       "</div>"
      ],
      "text/plain": [
       "   City_ID      City Country  Max Temp      Lat       Lng Weather Description  \\\n",
       "0        0  Belmonte      BR     72.28 -15.8631  -38.8828     overcast clouds   \n",
       "1        5    Atuona      PF     78.51  -9.8000 -139.0333    scattered clouds   \n",
       "2        8   Salalah      OM     78.89  17.0151   54.0924          few clouds   \n",
       "3       10      Hilo      US     73.13  19.7297 -155.0900     overcast clouds   \n",
       "4       16   Mumford      GH     78.40   5.2618   -0.7590           clear sky   \n",
       "\n",
       "                                 Hotel Name  \n",
       "0               Pousada Monte Carmelo O Pão  \n",
       "1                               Villa Enata  \n",
       "2  HAMDAN PLAZA HOTEL SALALAH, an HTG Hotel  \n",
       "3                       Hilo Hawaiian Hotel  \n",
       "4                         Peace Guest House  "
      ]
     },
     "execution_count": 6,
     "metadata": {},
     "output_type": "execute_result"
    }
   ],
   "source": [
    "# Read the WeatherPy_vacation.csv into a DataFrame\n",
    "file_path = \"../Vacation_Search/WeatherPy_vacation.csv\"\n",
    "\n",
    "vacation_df = pd.read_csv(file_path)\n",
    "\n",
    "\n",
    "# Display sample data\n",
    "vacation_df.head()"
   ]
  },
  {
   "cell_type": "markdown",
   "metadata": {},
   "source": [
    "**Note:** If the resulting DataFrame is empty, uncomment the following code to load sample data into the `clean_hotel_df`."
   ]
  },
  {
   "cell_type": "code",
   "execution_count": 7,
   "metadata": {},
   "outputs": [],
   "source": [
    "# In case of an empty DataFrame, load the sample data provided\n",
    "#clean_hotel_df = pd.read_csv(\"WeatherPy_vacation-backup.csv\")\n",
    "#clean_hotel_df.head(10)"
   ]
  },
  {
   "cell_type": "markdown",
   "metadata": {
    "tags": []
   },
   "source": [
    "## In this step, you will set-up the pop-up markers. Review the code to create a marker layer map of the vacation search results. This code is the same as in Deliverable 2."
   ]
  },
  {
   "cell_type": "code",
   "execution_count": 8,
   "metadata": {},
   "outputs": [],
   "source": [
    "# Review the formatting template\n",
    "info_box_template = \"\"\"\n",
    "<dl>\n",
    "<dt>Hotel Name</dt><dd>{Hotel Name}</dd>\n",
    "<dt>City</dt><dd>{City}</dd>\n",
    "<dt>Country</dt><dd>{Country}</dd>\n",
    "<dt> Weather</dt><dd>{Weather Description} and {Max Temp} °F</dd>\n",
    "</dl>\n",
    "\"\"\"\n",
    "\n",
    "# Get the data from each row and add it to the formatting template and store the data in a list\n",
    "hotel_info = [info_box_template.format(**row) for index, row in vacation_df.iterrows()]\n",
    "\n",
    "# Get the latitude and longitude from each row and store in a new DataFrame.\n",
    "locations = vacation_df[[\"Lat\", \"Lng\"]]"
   ]
  },
  {
   "cell_type": "code",
   "execution_count": 9,
   "metadata": {},
   "outputs": [
    {
     "data": {
      "text/plain": [
       "['\\n<dl>\\n<dt>Hotel Name</dt><dd>Pousada Monte Carmelo O Pão</dd>\\n<dt>City</dt><dd>Belmonte</dd>\\n<dt>Country</dt><dd>BR</dd>\\n<dt> Weather</dt><dd>overcast clouds and 72.28 °F</dd>\\n</dl>\\n',\n",
       " '\\n<dl>\\n<dt>Hotel Name</dt><dd>Villa Enata</dd>\\n<dt>City</dt><dd>Atuona</dd>\\n<dt>Country</dt><dd>PF</dd>\\n<dt> Weather</dt><dd>scattered clouds and 78.51 °F</dd>\\n</dl>\\n',\n",
       " '\\n<dl>\\n<dt>Hotel Name</dt><dd>HAMDAN PLAZA HOTEL SALALAH, an HTG Hotel</dd>\\n<dt>City</dt><dd>Salalah</dd>\\n<dt>Country</dt><dd>OM</dd>\\n<dt> Weather</dt><dd>few clouds and 78.89 °F</dd>\\n</dl>\\n',\n",
       " '\\n<dl>\\n<dt>Hotel Name</dt><dd>Hilo Hawaiian Hotel</dd>\\n<dt>City</dt><dd>Hilo</dd>\\n<dt>Country</dt><dd>US</dd>\\n<dt> Weather</dt><dd>overcast clouds and 73.13 °F</dd>\\n</dl>\\n',\n",
       " '\\n<dl>\\n<dt>Hotel Name</dt><dd>Peace Guest House</dd>\\n<dt>City</dt><dd>Mumford</dd>\\n<dt>Country</dt><dd>GH</dd>\\n<dt> Weather</dt><dd>clear sky and 78.4 °F</dd>\\n</dl>\\n',\n",
       " '\\n<dl>\\n<dt>Hotel Name</dt><dd>nan</dd>\\n<dt>City</dt><dd>Wawa</dd>\\n<dt>Country</dt><dd>NG</dd>\\n<dt> Weather</dt><dd>clear sky and 70.12 °F</dd>\\n</dl>\\n',\n",
       " '\\n<dl>\\n<dt>Hotel Name</dt><dd>Tu Casa</dd>\\n<dt>City</dt><dd>East London</dd>\\n<dt>Country</dt><dd>ZA</dd>\\n<dt> Weather</dt><dd>clear sky and 67.14 °F</dd>\\n</dl>\\n',\n",
       " '\\n<dl>\\n<dt>Hotel Name</dt><dd>Lidera</dd>\\n<dt>City</dt><dd>Carutapera</dd>\\n<dt>Country</dt><dd>BR</dd>\\n<dt> Weather</dt><dd>clear sky and 75.99 °F</dd>\\n</dl>\\n',\n",
       " '\\n<dl>\\n<dt>Hotel Name</dt><dd>Observatory Guest House</dd>\\n<dt>City</dt><dd>Busselton</dd>\\n<dt>Country</dt><dd>AU</dd>\\n<dt> Weather</dt><dd>scattered clouds and 76.21 °F</dd>\\n</dl>\\n',\n",
       " '\\n<dl>\\n<dt>Hotel Name</dt><dd>39 On Nile Guest House</dd>\\n<dt>City</dt><dd>Port Elizabeth</dd>\\n<dt>Country</dt><dd>ZA</dd>\\n<dt> Weather</dt><dd>clear sky and 69.31 °F</dd>\\n</dl>\\n',\n",
       " '\\n<dl>\\n<dt>Hotel Name</dt><dd>The Halyards Hotel & Spa</dd>\\n<dt>City</dt><dd>Port Alfred</dd>\\n<dt>Country</dt><dd>ZA</dd>\\n<dt> Weather</dt><dd>clear sky and 71.82 °F</dd>\\n</dl>\\n',\n",
       " '\\n<dl>\\n<dt>Hotel Name</dt><dd>Pousada Porteira</dd>\\n<dt>City</dt><dd>Entre Rios</dd>\\n<dt>Country</dt><dd>BR</dd>\\n<dt> Weather</dt><dd>scattered clouds and 68.88 °F</dd>\\n</dl>\\n',\n",
       " '\\n<dl>\\n<dt>Hotel Name</dt><dd>St Ives Hobart Accommodation Tasmania</dd>\\n<dt>City</dt><dd>Hobart</dd>\\n<dt>Country</dt><dd>AU</dd>\\n<dt> Weather</dt><dd>clear sky and 65.05 °F</dd>\\n</dl>\\n',\n",
       " '\\n<dl>\\n<dt>Hotel Name</dt><dd>nan</dd>\\n<dt>City</dt><dd>Umm Kaddadah</dd>\\n<dt>Country</dt><dd>SD</dd>\\n<dt> Weather</dt><dd>clear sky and 67.37 °F</dd>\\n</dl>\\n',\n",
       " '\\n<dl>\\n<dt>Hotel Name</dt><dd>Nusa Island Retreat</dd>\\n<dt>City</dt><dd>Kavieng</dd>\\n<dt>Country</dt><dd>PG</dd>\\n<dt> Weather</dt><dd>scattered clouds and 85.68 °F</dd>\\n</dl>\\n',\n",
       " '\\n<dl>\\n<dt>Hotel Name</dt><dd>Arribas Sintra Hotel</dd>\\n<dt>City</dt><dd>Colares</dd>\\n<dt>Country</dt><dd>PT</dd>\\n<dt> Weather</dt><dd>overcast clouds and 65.34 °F</dd>\\n</dl>\\n',\n",
       " '\\n<dl>\\n<dt>Hotel Name</dt><dd>Crôa Mares Hotel</dd>\\n<dt>City</dt><dd>Sao Jose Da Coroa Grande</dd>\\n<dt>Country</dt><dd>BR</dd>\\n<dt> Weather</dt><dd>scattered clouds and 76.19 °F</dd>\\n</dl>\\n',\n",
       " '\\n<dl>\\n<dt>Hotel Name</dt><dd>Desert Gardens Hotel - Ayers Rock Resort</dd>\\n<dt>City</dt><dd>Yulara</dd>\\n<dt>Country</dt><dd>AU</dd>\\n<dt> Weather</dt><dd>overcast clouds and 70.86 °F</dd>\\n</dl>\\n',\n",
       " '\\n<dl>\\n<dt>Hotel Name</dt><dd>INN NEW HORIZON</dd>\\n<dt>City</dt><dd>Touros</dd>\\n<dt>Country</dt><dd>BR</dd>\\n<dt> Weather</dt><dd>overcast clouds and 78.85 °F</dd>\\n</dl>\\n',\n",
       " '\\n<dl>\\n<dt>Hotel Name</dt><dd>Atlantis Hotel</dd>\\n<dt>City</dt><dd>Bathsheba</dd>\\n<dt>Country</dt><dd>BB</dd>\\n<dt> Weather</dt><dd>light intensity shower rain and 81.21 °F</dd>\\n</dl>\\n',\n",
       " '\\n<dl>\\n<dt>Hotel Name</dt><dd>Pousada Porto Praia</dd>\\n<dt>City</dt><dd>Arraial Do Cabo</dd>\\n<dt>Country</dt><dd>BR</dd>\\n<dt> Weather</dt><dd>overcast clouds and 73.02 °F</dd>\\n</dl>\\n',\n",
       " '\\n<dl>\\n<dt>Hotel Name</dt><dd>Isles Sunset Lodge</dd>\\n<dt>City</dt><dd>Butaritari</dd>\\n<dt>Country</dt><dd>KI</dd>\\n<dt> Weather</dt><dd>overcast clouds and 82.11 °F</dd>\\n</dl>\\n',\n",
       " '\\n<dl>\\n<dt>Hotel Name</dt><dd>Paradise Inn</dd>\\n<dt>City</dt><dd>Avarua</dd>\\n<dt>Country</dt><dd>CK</dd>\\n<dt> Weather</dt><dd>broken clouds and 75.25 °F</dd>\\n</dl>\\n',\n",
       " '\\n<dl>\\n<dt>Hotel Name</dt><dd>People ThankYou</dd>\\n<dt>City</dt><dd>Rikitea</dd>\\n<dt>Country</dt><dd>PF</dd>\\n<dt> Weather</dt><dd>light rain and 73.29 °F</dd>\\n</dl>\\n',\n",
       " '\\n<dl>\\n<dt>Hotel Name</dt><dd>GT Site</dd>\\n<dt>City</dt><dd>Tuburan</dd>\\n<dt>Country</dt><dd>PH</dd>\\n<dt> Weather</dt><dd>broken clouds and 86.09 °F</dd>\\n</dl>\\n',\n",
       " '\\n<dl>\\n<dt>Hotel Name</dt><dd>nan</dd>\\n<dt>City</dt><dd>Gamba</dd>\\n<dt>Country</dt><dd>GA</dd>\\n<dt> Weather</dt><dd>moderate rain and 75.29 °F</dd>\\n</dl>\\n',\n",
       " '\\n<dl>\\n<dt>Hotel Name</dt><dd>Keleti Beach Resort</dd>\\n<dt>City</dt><dd>Vaini</dd>\\n<dt>Country</dt><dd>TO</dd>\\n<dt> Weather</dt><dd>broken clouds and 82.56 °F</dd>\\n</dl>\\n',\n",
       " '\\n<dl>\\n<dt>Hotel Name</dt><dd>Cititel Penang</dd>\\n<dt>City</dt><dd>Georgetown</dd>\\n<dt>Country</dt><dd>MY</dd>\\n<dt> Weather</dt><dd>few clouds and 84.13 °F</dd>\\n</dl>\\n',\n",
       " '\\n<dl>\\n<dt>Hotel Name</dt><dd>Seagull Hotel</dd>\\n<dt>City</dt><dd>Qui Nhon</dd>\\n<dt>Country</dt><dd>VN</dd>\\n<dt> Weather</dt><dd>overcast clouds and 80.58 °F</dd>\\n</dl>\\n',\n",
       " '\\n<dl>\\n<dt>Hotel Name</dt><dd>Hotel casa real</dd>\\n<dt>City</dt><dd>Puerto Suarez</dd>\\n<dt>Country</dt><dd>BO</dd>\\n<dt> Weather</dt><dd>overcast clouds and 70.0 °F</dd>\\n</dl>\\n',\n",
       " '\\n<dl>\\n<dt>Hotel Name</dt><dd>Shandrani Beachcomber Resort & Spa</dd>\\n<dt>City</dt><dd>Mahebourg</dd>\\n<dt>Country</dt><dd>MU</dd>\\n<dt> Weather</dt><dd>smoke and 82.26 °F</dd>\\n</dl>\\n',\n",
       " '\\n<dl>\\n<dt>Hotel Name</dt><dd>Hotel Ambulu Jember</dd>\\n<dt>City</dt><dd>Ambulu</dd>\\n<dt>Country</dt><dd>ID</dd>\\n<dt> Weather</dt><dd>overcast clouds and 83.3 °F</dd>\\n</dl>\\n',\n",
       " '\\n<dl>\\n<dt>Hotel Name</dt><dd>Hospitality Carnarvon</dd>\\n<dt>City</dt><dd>Carnarvon</dd>\\n<dt>Country</dt><dd>AU</dd>\\n<dt> Weather</dt><dd>clear sky and 77.5 °F</dd>\\n</dl>\\n',\n",
       " '\\n<dl>\\n<dt>Hotel Name</dt><dd>HOTEL SHARRON AMPANIHY OUEST</dd>\\n<dt>City</dt><dd>Ampanihy</dd>\\n<dt>Country</dt><dd>MG</dd>\\n<dt> Weather</dt><dd>clear sky and 76.1 °F</dd>\\n</dl>\\n',\n",
       " '\\n<dl>\\n<dt>Hotel Name</dt><dd>Sheraton Kauai Coconut Beach Resort</dd>\\n<dt>City</dt><dd>Kapaa</dd>\\n<dt>Country</dt><dd>US</dd>\\n<dt> Weather</dt><dd>few clouds and 80.58 °F</dd>\\n</dl>\\n',\n",
       " '\\n<dl>\\n<dt>Hotel Name</dt><dd>Mini Central</dd>\\n<dt>City</dt><dd>Victoria</dd>\\n<dt>Country</dt><dd>HK</dd>\\n<dt> Weather</dt><dd>overcast clouds and 78.85 °F</dd>\\n</dl>\\n',\n",
       " '\\n<dl>\\n<dt>Hotel Name</dt><dd>East Arnhem Real Estate</dd>\\n<dt>City</dt><dd>Nhulunbuy</dd>\\n<dt>Country</dt><dd>AU</dd>\\n<dt> Weather</dt><dd>broken clouds and 88.41 °F</dd>\\n</dl>\\n',\n",
       " '\\n<dl>\\n<dt>Hotel Name</dt><dd>Maqna Hotel by Prasanthi</dd>\\n<dt>City</dt><dd>Gorontalo</dd>\\n<dt>Country</dt><dd>ID</dd>\\n<dt> Weather</dt><dd>overcast clouds and 85.26 °F</dd>\\n</dl>\\n',\n",
       " '\\n<dl>\\n<dt>Hotel Name</dt><dd>Hotel Palaaima</dd>\\n<dt>City</dt><dd>Manaure</dd>\\n<dt>Country</dt><dd>CO</dd>\\n<dt> Weather</dt><dd>clear sky and 77.22 °F</dd>\\n</dl>\\n',\n",
       " '\\n<dl>\\n<dt>Hotel Name</dt><dd>MOGOK HILL HOTEL</dd>\\n<dt>City</dt><dd>Mogok</dd>\\n<dt>Country</dt><dd>MM</dd>\\n<dt> Weather</dt><dd>clear sky and 77.47 °F</dd>\\n</dl>\\n',\n",
       " '\\n<dl>\\n<dt>Hotel Name</dt><dd>Parador Maunacaribe</dd>\\n<dt>City</dt><dd>Maunabo</dd>\\n<dt>Country</dt><dd>PR</dd>\\n<dt> Weather</dt><dd>few clouds and 80.44 °F</dd>\\n</dl>\\n',\n",
       " '\\n<dl>\\n<dt>Hotel Name</dt><dd>Amangalla</dd>\\n<dt>City</dt><dd>Galle</dd>\\n<dt>Country</dt><dd>LK</dd>\\n<dt> Weather</dt><dd>scattered clouds and 83.07 °F</dd>\\n</dl>\\n',\n",
       " '\\n<dl>\\n<dt>Hotel Name</dt><dd>Blue Ridge Beach Resort</dd>\\n<dt>City</dt><dd>Davila</dd>\\n<dt>Country</dt><dd>PH</dd>\\n<dt> Weather</dt><dd>broken clouds and 85.98 °F</dd>\\n</dl>\\n',\n",
       " '\\n<dl>\\n<dt>Hotel Name</dt><dd>Hotel Wixel</dd>\\n<dt>City</dt><dd>Kendari</dd>\\n<dt>Country</dt><dd>ID</dd>\\n<dt> Weather</dt><dd>overcast clouds and 85.82 °F</dd>\\n</dl>\\n',\n",
       " '\\n<dl>\\n<dt>Hotel Name</dt><dd>Ramada Hotel & Suites by Wyndham Ballina Byron</dd>\\n<dt>City</dt><dd>Ballina</dd>\\n<dt>Country</dt><dd>AU</dd>\\n<dt> Weather</dt><dd>broken clouds and 82.02 °F</dd>\\n</dl>\\n',\n",
       " '\\n<dl>\\n<dt>Hotel Name</dt><dd>Puri Brata</dd>\\n<dt>City</dt><dd>Srandakan</dd>\\n<dt>Country</dt><dd>ID</dd>\\n<dt> Weather</dt><dd>light rain and 83.37 °F</dd>\\n</dl>\\n',\n",
       " '\\n<dl>\\n<dt>Hotel Name</dt><dd>nan</dd>\\n<dt>City</dt><dd>Sembe</dd>\\n<dt>Country</dt><dd>CG</dd>\\n<dt> Weather</dt><dd>scattered clouds and 68.86 °F</dd>\\n</dl>\\n',\n",
       " '\\n<dl>\\n<dt>Hotel Name</dt><dd>Hotel Chik Chik Namibe</dd>\\n<dt>City</dt><dd>Namibe</dd>\\n<dt>Country</dt><dd>AO</dd>\\n<dt> Weather</dt><dd>overcast clouds and 71.62 °F</dd>\\n</dl>\\n',\n",
       " '\\n<dl>\\n<dt>Hotel Name</dt><dd>Shelly Bay Resort</dd>\\n<dt>City</dt><dd>Hervey Bay</dd>\\n<dt>Country</dt><dd>AU</dd>\\n<dt> Weather</dt><dd>overcast clouds and 80.02 °F</dd>\\n</dl>\\n',\n",
       " '\\n<dl>\\n<dt>Hotel Name</dt><dd>Oceano</dd>\\n<dt>City</dt><dd>Inhambane</dd>\\n<dt>Country</dt><dd>MZ</dd>\\n<dt> Weather</dt><dd>scattered clouds and 77.0 °F</dd>\\n</dl>\\n',\n",
       " '\\n<dl>\\n<dt>Hotel Name</dt><dd>Radisson Hotel Decapolis Miraflores</dd>\\n<dt>City</dt><dd>San Isidro</dd>\\n<dt>Country</dt><dd>PE</dd>\\n<dt> Weather</dt><dd>clear sky and 67.59 °F</dd>\\n</dl>\\n',\n",
       " '\\n<dl>\\n<dt>Hotel Name</dt><dd>Finch Bay Galapagos Hotel</dd>\\n<dt>City</dt><dd>Puerto Ayora</dd>\\n<dt>Country</dt><dd>EC</dd>\\n<dt> Weather</dt><dd>broken clouds and 68.56 °F</dd>\\n</dl>\\n',\n",
       " '\\n<dl>\\n<dt>Hotel Name</dt><dd>Pacific Rendezvous Motel Resort</dd>\\n<dt>City</dt><dd>Ngunguru</dd>\\n<dt>Country</dt><dd>NZ</dd>\\n<dt> Weather</dt><dd>clear sky and 68.11 °F</dd>\\n</dl>\\n',\n",
       " '\\n<dl>\\n<dt>Hotel Name</dt><dd>Mystic Sands Beachfront Accommodation</dd>\\n<dt>City</dt><dd>Neiafu</dd>\\n<dt>Country</dt><dd>TO</dd>\\n<dt> Weather</dt><dd>broken clouds and 81.28 °F</dd>\\n</dl>\\n',\n",
       " '\\n<dl>\\n<dt>Hotel Name</dt><dd>Hotel Campos Dourados.</dd>\\n<dt>City</dt><dd>Palmares Do Sul</dd>\\n<dt>Country</dt><dd>BR</dd>\\n<dt> Weather</dt><dd>overcast clouds and 66.54 °F</dd>\\n</dl>\\n',\n",
       " '\\n<dl>\\n<dt>Hotel Name</dt><dd>Mumbwa Motel</dd>\\n<dt>City</dt><dd>Mumbwa</dd>\\n<dt>Country</dt><dd>ZM</dd>\\n<dt> Weather</dt><dd>overcast clouds and 69.93 °F</dd>\\n</dl>\\n',\n",
       " '\\n<dl>\\n<dt>Hotel Name</dt><dd>Kamuboola Lodge</dd>\\n<dt>City</dt><dd>Choma</dd>\\n<dt>Country</dt><dd>ZM</dd>\\n<dt> Weather</dt><dd>overcast clouds and 69.01 °F</dd>\\n</dl>\\n',\n",
       " '\\n<dl>\\n<dt>Hotel Name</dt><dd>Jaflo Gardens Hotel</dd>\\n<dt>City</dt><dd>Kitgum</dd>\\n<dt>Country</dt><dd>UG</dd>\\n<dt> Weather</dt><dd>light rain and 67.59 °F</dd>\\n</dl>\\n',\n",
       " '\\n<dl>\\n<dt>Hotel Name</dt><dd>Broadwater Mariner Resort</dd>\\n<dt>City</dt><dd>Geraldton</dd>\\n<dt>Country</dt><dd>AU</dd>\\n<dt> Weather</dt><dd>clear sky and 75.61 °F</dd>\\n</dl>\\n',\n",
       " '\\n<dl>\\n<dt>Hotel Name</dt><dd>Hosteria Sampedro</dd>\\n<dt>City</dt><dd>Rawson</dd>\\n<dt>Country</dt><dd>AR</dd>\\n<dt> Weather</dt><dd>broken clouds and 68.32 °F</dd>\\n</dl>\\n',\n",
       " '\\n<dl>\\n<dt>Hotel Name</dt><dd>Plantation de Kelo</dd>\\n<dt>City</dt><dd>Kelo</dd>\\n<dt>Country</dt><dd>TD</dd>\\n<dt> Weather</dt><dd>clear sky and 66.92 °F</dd>\\n</dl>\\n',\n",
       " '\\n<dl>\\n<dt>Hotel Name</dt><dd>Hotel Tesoro Los Cabos</dd>\\n<dt>City</dt><dd>Cabo San Lucas</dd>\\n<dt>Country</dt><dd>MX</dd>\\n<dt> Weather</dt><dd>scattered clouds and 72.52 °F</dd>\\n</dl>\\n',\n",
       " '\\n<dl>\\n<dt>Hotel Name</dt><dd>Vahmoneh Lodge Vanimo</dd>\\n<dt>City</dt><dd>Vanimo</dd>\\n<dt>Country</dt><dd>PG</dd>\\n<dt> Weather</dt><dd>broken clouds and 84.7 °F</dd>\\n</dl>\\n',\n",
       " '\\n<dl>\\n<dt>Hotel Name</dt><dd>Paradise Bay Resort</dd>\\n<dt>City</dt><dd>Ahuimanu</dd>\\n<dt>Country</dt><dd>US</dd>\\n<dt> Weather</dt><dd>few clouds and 78.51 °F</dd>\\n</dl>\\n',\n",
       " '\\n<dl>\\n<dt>Hotel Name</dt><dd>nan</dd>\\n<dt>City</dt><dd>Airai</dd>\\n<dt>Country</dt><dd>TL</dd>\\n<dt> Weather</dt><dd>overcast clouds and 69.84 °F</dd>\\n</dl>\\n',\n",
       " '\\n<dl>\\n<dt>Hotel Name</dt><dd>nan</dd>\\n<dt>City</dt><dd>Tessalit</dd>\\n<dt>Country</dt><dd>ML</dd>\\n<dt> Weather</dt><dd>overcast clouds and 69.71 °F</dd>\\n</dl>\\n',\n",
       " '\\n<dl>\\n<dt>Hotel Name</dt><dd>Hospitality Esperance</dd>\\n<dt>City</dt><dd>Esperance</dd>\\n<dt>Country</dt><dd>AU</dd>\\n<dt> Weather</dt><dd>broken clouds and 79.68 °F</dd>\\n</dl>\\n',\n",
       " \"\\n<dl>\\n<dt>Hotel Name</dt><dd>Nathaniel's Lodge</dd>\\n<dt>City</dt><dd>Basco</dd>\\n<dt>Country</dt><dd>PH</dd>\\n<dt> Weather</dt><dd>overcast clouds and 82.18 °F</dd>\\n</dl>\\n\",\n",
       " '\\n<dl>\\n<dt>Hotel Name</dt><dd>Aritana</dd>\\n<dt>City</dt><dd>Aparecida Do Taboado</dd>\\n<dt>Country</dt><dd>BR</dd>\\n<dt> Weather</dt><dd>overcast clouds and 72.18 °F</dd>\\n</dl>\\n',\n",
       " '\\n<dl>\\n<dt>Hotel Name</dt><dd>Pension Oaoa</dd>\\n<dt>City</dt><dd>Tautira</dd>\\n<dt>Country</dt><dd>PF</dd>\\n<dt> Weather</dt><dd>light rain and 76.01 °F</dd>\\n</dl>\\n',\n",
       " '\\n<dl>\\n<dt>Hotel Name</dt><dd>nan</dd>\\n<dt>City</dt><dd>Acurenam</dd>\\n<dt>Country</dt><dd>GQ</dd>\\n<dt> Weather</dt><dd>broken clouds and 65.57 °F</dd>\\n</dl>\\n',\n",
       " '\\n<dl>\\n<dt>Hotel Name</dt><dd>Shishime Hotel</dd>\\n<dt>City</dt><dd>Naze</dd>\\n<dt>Country</dt><dd>JP</dd>\\n<dt> Weather</dt><dd>overcast clouds and 70.72 °F</dd>\\n</dl>\\n',\n",
       " '\\n<dl>\\n<dt>Hotel Name</dt><dd>Shanti Maurice Resort & Spa</dd>\\n<dt>City</dt><dd>Souillac</dd>\\n<dt>Country</dt><dd>MU</dd>\\n<dt> Weather</dt><dd>smoke and 80.98 °F</dd>\\n</dl>\\n',\n",
       " '\\n<dl>\\n<dt>Hotel Name</dt><dd>Hotel Yugaf Inn Okinawa</dd>\\n<dt>City</dt><dd>Nago</dd>\\n<dt>Country</dt><dd>JP</dd>\\n<dt> Weather</dt><dd>light rain and 73.83 °F</dd>\\n</dl>\\n',\n",
       " '\\n<dl>\\n<dt>Hotel Name</dt><dd>Scoop Guest House</dd>\\n<dt>City</dt><dd>Hithadhoo</dd>\\n<dt>Country</dt><dd>MV</dd>\\n<dt> Weather</dt><dd>broken clouds and 80.37 °F</dd>\\n</dl>\\n',\n",
       " '\\n<dl>\\n<dt>Hotel Name</dt><dd>\"Plantation Bed and Breakfast</dd>\\n<dt>City</dt><dd>Saint-Joseph</dd>\\n<dt>Country</dt><dd>RE</dd>\\n<dt> Weather</dt><dd>scattered clouds and 79.18 °F</dd>\\n</dl>\\n',\n",
       " '\\n<dl>\\n<dt>Hotel Name</dt><dd>DoubleFAG</dd>\\n<dt>City</dt><dd>Labuhan</dd>\\n<dt>Country</dt><dd>ID</dd>\\n<dt> Weather</dt><dd>overcast clouds and 88.27 °F</dd>\\n</dl>\\n',\n",
       " '\\n<dl>\\n<dt>Hotel Name</dt><dd>Pereybere Hotel & Spa</dd>\\n<dt>City</dt><dd>Cap Malheureux</dd>\\n<dt>Country</dt><dd>MU</dd>\\n<dt> Weather</dt><dd>clear sky and 82.47 °F</dd>\\n</dl>\\n',\n",
       " '\\n<dl>\\n<dt>Hotel Name</dt><dd>Hotel Bressan</dd>\\n<dt>City</dt><dd>Pontes E Lacerda</dd>\\n<dt>Country</dt><dd>BR</dd>\\n<dt> Weather</dt><dd>overcast clouds and 70.54 °F</dd>\\n</dl>\\n',\n",
       " '\\n<dl>\\n<dt>Hotel Name</dt><dd>Pousada dos Navegantes</dd>\\n<dt>City</dt><dd>Caravelas</dd>\\n<dt>Country</dt><dd>BR</dd>\\n<dt> Weather</dt><dd>overcast clouds and 70.86 °F</dd>\\n</dl>\\n',\n",
       " '\\n<dl>\\n<dt>Hotel Name</dt><dd>HOTEL PALACE AVENIDA & CAIAPÓ TURISMO</dd>\\n<dt>City</dt><dd>Caiaponia</dd>\\n<dt>Country</dt><dd>BR</dd>\\n<dt> Weather</dt><dd>overcast clouds and 67.82 °F</dd>\\n</dl>\\n',\n",
       " '\\n<dl>\\n<dt>Hotel Name</dt><dd>nan</dd>\\n<dt>City</dt><dd>Kasongo-Lunda</dd>\\n<dt>Country</dt><dd>CD</dd>\\n<dt> Weather</dt><dd>overcast clouds and 67.75 °F</dd>\\n</dl>\\n',\n",
       " '\\n<dl>\\n<dt>Hotel Name</dt><dd>Budidaya Pembesaran Ikan</dd>\\n<dt>City</dt><dd>Simpang</dd>\\n<dt>Country</dt><dd>ID</dd>\\n<dt> Weather</dt><dd>overcast clouds and 79.38 °F</dd>\\n</dl>\\n',\n",
       " '\\n<dl>\\n<dt>Hotel Name</dt><dd>Hotel Kamana</dd>\\n<dt>City</dt><dd>Lima</dd>\\n<dt>Country</dt><dd>PE</dd>\\n<dt> Weather</dt><dd>clear sky and 66.45 °F</dd>\\n</dl>\\n',\n",
       " '\\n<dl>\\n<dt>Hotel Name</dt><dd>Le four à pain</dd>\\n<dt>City</dt><dd>Saint-Philippe</dd>\\n<dt>Country</dt><dd>RE</dd>\\n<dt> Weather</dt><dd>scattered clouds and 80.19 °F</dd>\\n</dl>\\n',\n",
       " '\\n<dl>\\n<dt>Hotel Name</dt><dd>Guest House Epervier</dd>\\n<dt>City</dt><dd>Mbandaka</dd>\\n<dt>Country</dt><dd>CD</dd>\\n<dt> Weather</dt><dd>broken clouds and 69.6 °F</dd>\\n</dl>\\n',\n",
       " '\\n<dl>\\n<dt>Hotel Name</dt><dd>Moon light Furnished Units</dd>\\n<dt>City</dt><dd>Umm Lajj</dd>\\n<dt>Country</dt><dd>SA</dd>\\n<dt> Weather</dt><dd>scattered clouds and 78.55 °F</dd>\\n</dl>\\n',\n",
       " '\\n<dl>\\n<dt>Hotel Name</dt><dd>Uruna Bay Retreat</dd>\\n<dt>City</dt><dd>Kieta</dd>\\n<dt>Country</dt><dd>PG</dd>\\n<dt> Weather</dt><dd>scattered clouds and 85.48 °F</dd>\\n</dl>\\n',\n",
       " '\\n<dl>\\n<dt>Hotel Name</dt><dd>Lorengau Harbourside Hotel</dd>\\n<dt>City</dt><dd>Lorengau</dd>\\n<dt>Country</dt><dd>PG</dd>\\n<dt> Weather</dt><dd>overcast clouds and 83.34 °F</dd>\\n</dl>\\n',\n",
       " '\\n<dl>\\n<dt>Hotel Name</dt><dd>Majestic Oasis Apartments</dd>\\n<dt>City</dt><dd>Port Augusta</dd>\\n<dt>Country</dt><dd>AU</dd>\\n<dt> Weather</dt><dd>clear sky and 74.7 °F</dd>\\n</dl>\\n',\n",
       " '\\n<dl>\\n<dt>Hotel Name</dt><dd>Green and Blue Ocean Lodge</dd>\\n<dt>City</dt><dd>Kijini</dd>\\n<dt>Country</dt><dd>TZ</dd>\\n<dt> Weather</dt><dd>clear sky and 76.73 °F</dd>\\n</dl>\\n',\n",
       " '\\n<dl>\\n<dt>Hotel Name</dt><dd>Jebinrio home</dd>\\n<dt>City</dt><dd>Manavalakurichi</dd>\\n<dt>Country</dt><dd>IN</dd>\\n<dt> Weather</dt><dd>scattered clouds and 83.84 °F</dd>\\n</dl>\\n',\n",
       " '\\n<dl>\\n<dt>Hotel Name</dt><dd>Kost Pria</dd>\\n<dt>City</dt><dd>Meulaboh</dd>\\n<dt>Country</dt><dd>ID</dd>\\n<dt> Weather</dt><dd>scattered clouds and 83.23 °F</dd>\\n</dl>\\n',\n",
       " '\\n<dl>\\n<dt>Hotel Name</dt><dd>Hotel La Siesta</dd>\\n<dt>City</dt><dd>Mazatlan</dd>\\n<dt>Country</dt><dd>MX</dd>\\n<dt> Weather</dt><dd>scattered clouds and 72.01 °F</dd>\\n</dl>\\n',\n",
       " '\\n<dl>\\n<dt>Hotel Name</dt><dd>Hotel Kou-Bugny</dd>\\n<dt>City</dt><dd>Vao</dd>\\n<dt>Country</dt><dd>NC</dd>\\n<dt> Weather</dt><dd>scattered clouds and 77.49 °F</dd>\\n</dl>\\n',\n",
       " '\\n<dl>\\n<dt>Hotel Name</dt><dd>Kagel Mari Police Station</dd>\\n<dt>City</dt><dd>Maiduguri</dd>\\n<dt>Country</dt><dd>NG</dd>\\n<dt> Weather</dt><dd>clear sky and 65.16 °F</dd>\\n</dl>\\n',\n",
       " '\\n<dl>\\n<dt>Hotel Name</dt><dd>Melrose</dd>\\n<dt>City</dt><dd>Sambava</dd>\\n<dt>Country</dt><dd>MG</dd>\\n<dt> Weather</dt><dd>overcast clouds and 76.82 °F</dd>\\n</dl>\\n',\n",
       " '\\n<dl>\\n<dt>Hotel Name</dt><dd>Sonesta Maho Beach Resort, Casino & Spa</dd>\\n<dt>City</dt><dd>Marigot</dd>\\n<dt>Country</dt><dd>MF</dd>\\n<dt> Weather</dt><dd>few clouds and 80.38 °F</dd>\\n</dl>\\n',\n",
       " '\\n<dl>\\n<dt>Hotel Name</dt><dd>VS Villa</dd>\\n<dt>City</dt><dd>Kalmunai</dd>\\n<dt>Country</dt><dd>LK</dd>\\n<dt> Weather</dt><dd>overcast clouds and 82.35 °F</dd>\\n</dl>\\n',\n",
       " '\\n<dl>\\n<dt>Hotel Name</dt><dd>Taloa Heights</dd>\\n<dt>City</dt><dd>Alofi</dd>\\n<dt>Country</dt><dd>NU</dd>\\n<dt> Weather</dt><dd>clear sky and 80.49 °F</dd>\\n</dl>\\n',\n",
       " '\\n<dl>\\n<dt>Hotel Name</dt><dd>Ungoofaaru Inn</dd>\\n<dt>City</dt><dd>Ugoofaaru</dd>\\n<dt>Country</dt><dd>MV</dd>\\n<dt> Weather</dt><dd>scattered clouds and 81.37 °F</dd>\\n</dl>\\n',\n",
       " '\\n<dl>\\n<dt>Hotel Name</dt><dd>Derogongan Residence</dd>\\n<dt>City</dt><dd>Marawi</dd>\\n<dt>Country</dt><dd>PH</dd>\\n<dt> Weather</dt><dd>overcast clouds and 78.73 °F</dd>\\n</dl>\\n',\n",
       " '\\n<dl>\\n<dt>Hotel Name</dt><dd>Praia Hotel Imbituba</dd>\\n<dt>City</dt><dd>Imbituba</dd>\\n<dt>Country</dt><dd>BR</dd>\\n<dt> Weather</dt><dd>scattered clouds and 68.34 °F</dd>\\n</dl>\\n',\n",
       " '\\n<dl>\\n<dt>Hotel Name</dt><dd>OYO 66654 Hotel Devlok</dd>\\n<dt>City</dt><dd>Rudraprayag</dd>\\n<dt>Country</dt><dd>IN</dd>\\n<dt> Weather</dt><dd>clear sky and 73.99 °F</dd>\\n</dl>\\n',\n",
       " '\\n<dl>\\n<dt>Hotel Name</dt><dd>Casa Tia Villa</dd>\\n<dt>City</dt><dd>Bambous Virieux</dd>\\n<dt>Country</dt><dd>MU</dd>\\n<dt> Weather</dt><dd>smoke and 82.22 °F</dd>\\n</dl>\\n',\n",
       " '\\n<dl>\\n<dt>Hotel Name</dt><dd>Guesthouse Samotina</dd>\\n<dt>City</dt><dd>Pemba</dd>\\n<dt>Country</dt><dd>MZ</dd>\\n<dt> Weather</dt><dd>scattered clouds and 79.5 °F</dd>\\n</dl>\\n',\n",
       " '\\n<dl>\\n<dt>Hotel Name</dt><dd>Osprey Beach Hotel</dd>\\n<dt>City</dt><dd>Cockburn Town</dd>\\n<dt>Country</dt><dd>TC</dd>\\n<dt> Weather</dt><dd>few clouds and 81.25 °F</dd>\\n</dl>\\n',\n",
       " '\\n<dl>\\n<dt>Hotel Name</dt><dd>Kamaneahn Hotel Inc</dd>\\n<dt>City</dt><dd>Buchanan</dd>\\n<dt>Country</dt><dd>LR</dd>\\n<dt> Weather</dt><dd>light rain and 75.96 °F</dd>\\n</dl>\\n',\n",
       " '\\n<dl>\\n<dt>Hotel Name</dt><dd>Hotel Vitória Palace</dd>\\n<dt>City</dt><dd>Vila Velha</dd>\\n<dt>Country</dt><dd>BR</dd>\\n<dt> Weather</dt><dd>broken clouds and 71.94 °F</dd>\\n</dl>\\n',\n",
       " '\\n<dl>\\n<dt>Hotel Name</dt><dd>nan</dd>\\n<dt>City</dt><dd>Panguna</dd>\\n<dt>Country</dt><dd>PG</dd>\\n<dt> Weather</dt><dd>light rain and 79.63 °F</dd>\\n</dl>\\n',\n",
       " '\\n<dl>\\n<dt>Hotel Name</dt><dd>nan</dd>\\n<dt>City</dt><dd>Aripuana</dd>\\n<dt>Country</dt><dd>BR</dd>\\n<dt> Weather</dt><dd>overcast clouds and 71.67 °F</dd>\\n</dl>\\n',\n",
       " '\\n<dl>\\n<dt>Hotel Name</dt><dd>Pousada Porto De Canoas</dd>\\n<dt>City</dt><dd>Sao Joao Da Barra</dd>\\n<dt>Country</dt><dd>BR</dd>\\n<dt> Weather</dt><dd>overcast clouds and 73.24 °F</dd>\\n</dl>\\n',\n",
       " '\\n<dl>\\n<dt>Hotel Name</dt><dd>Maui Sunset</dd>\\n<dt>City</dt><dd>Kihei</dd>\\n<dt>Country</dt><dd>US</dd>\\n<dt> Weather</dt><dd>few clouds and 77.02 °F</dd>\\n</dl>\\n',\n",
       " '\\n<dl>\\n<dt>Hotel Name</dt><dd>Gateway Hotel by Nightcap Plus</dd>\\n<dt>City</dt><dd>Devonport</dd>\\n<dt>Country</dt><dd>AU</dd>\\n<dt> Weather</dt><dd>scattered clouds and 68.09 °F</dd>\\n</dl>\\n',\n",
       " '\\n<dl>\\n<dt>Hotel Name</dt><dd>Hotel Ponta Verde Maceió</dd>\\n<dt>City</dt><dd>Maceio</dd>\\n<dt>Country</dt><dd>BR</dd>\\n<dt> Weather</dt><dd>scattered clouds and 72.84 °F</dd>\\n</dl>\\n',\n",
       " '\\n<dl>\\n<dt>Hotel Name</dt><dd>Posada Villa Nela</dd>\\n<dt>City</dt><dd>Upata</dd>\\n<dt>Country</dt><dd>VE</dd>\\n<dt> Weather</dt><dd>few clouds and 73.18 °F</dd>\\n</dl>\\n',\n",
       " '\\n<dl>\\n<dt>Hotel Name</dt><dd>فندق الدويم</dd>\\n<dt>City</dt><dd>Sawakin</dd>\\n<dt>Country</dt><dd>SD</dd>\\n<dt> Weather</dt><dd>few clouds and 82.04 °F</dd>\\n</dl>\\n',\n",
       " '\\n<dl>\\n<dt>Hotel Name</dt><dd>Sunrise Attitude Hotel</dd>\\n<dt>City</dt><dd>Quatre Cocos</dd>\\n<dt>Country</dt><dd>MU</dd>\\n<dt> Weather</dt><dd>few clouds and 82.09 °F</dd>\\n</dl>\\n',\n",
       " '\\n<dl>\\n<dt>Hotel Name</dt><dd>Beitbridge Express Hotel</dd>\\n<dt>City</dt><dd>Beitbridge</dd>\\n<dt>Country</dt><dd>ZW</dd>\\n<dt> Weather</dt><dd>scattered clouds and 77.34 °F</dd>\\n</dl>\\n',\n",
       " '\\n<dl>\\n<dt>Hotel Name</dt><dd>Shellharbour Resort & Conference Centre</dd>\\n<dt>City</dt><dd>Flinders</dd>\\n<dt>Country</dt><dd>AU</dd>\\n<dt> Weather</dt><dd>clear sky and 79.05 °F</dd>\\n</dl>\\n',\n",
       " '\\n<dl>\\n<dt>Hotel Name</dt><dd>Pousada Shalom</dd>\\n<dt>City</dt><dd>Pombal</dd>\\n<dt>Country</dt><dd>BR</dd>\\n<dt> Weather</dt><dd>clear sky and 77.95 °F</dd>\\n</dl>\\n',\n",
       " '\\n<dl>\\n<dt>Hotel Name</dt><dd>By Die Vlei</dd>\\n<dt>City</dt><dd>Brits</dd>\\n<dt>Country</dt><dd>ZA</dd>\\n<dt> Weather</dt><dd>broken clouds and 66.18 °F</dd>\\n</dl>\\n',\n",
       " '\\n<dl>\\n<dt>Hotel Name</dt><dd>Caycay future beach resort</dd>\\n<dt>City</dt><dd>Tagusao</dd>\\n<dt>Country</dt><dd>PH</dd>\\n<dt> Weather</dt><dd>overcast clouds and 85.5 °F</dd>\\n</dl>\\n',\n",
       " '\\n<dl>\\n<dt>Hotel Name</dt><dd>Farol Hotel</dd>\\n<dt>City</dt><dd>Torres</dd>\\n<dt>Country</dt><dd>BR</dd>\\n<dt> Weather</dt><dd>scattered clouds and 69.82 °F</dd>\\n</dl>\\n',\n",
       " '\\n<dl>\\n<dt>Hotel Name</dt><dd>Hotel Bombay Lodge</dd>\\n<dt>City</dt><dd>Fatehpur</dd>\\n<dt>Country</dt><dd>IN</dd>\\n<dt> Weather</dt><dd>scattered clouds and 73.15 °F</dd>\\n</dl>\\n',\n",
       " '\\n<dl>\\n<dt>Hotel Name</dt><dd>Amaloh Boutique Resort</dd>\\n<dt>City</dt><dd>Matara</dd>\\n<dt>Country</dt><dd>LK</dd>\\n<dt> Weather</dt><dd>scattered clouds and 85.3 °F</dd>\\n</dl>\\n',\n",
       " '\\n<dl>\\n<dt>Hotel Name</dt><dd>Hotel do Campo</dd>\\n<dt>City</dt><dd>Ponta Do Sol</dd>\\n<dt>Country</dt><dd>PT</dd>\\n<dt> Weather</dt><dd>scattered clouds and 67.71 °F</dd>\\n</dl>\\n',\n",
       " '\\n<dl>\\n<dt>Hotel Name</dt><dd>Fanny Guesthouse</dd>\\n<dt>City</dt><dd>Pujehun</dd>\\n<dt>Country</dt><dd>SL</dd>\\n<dt> Weather</dt><dd>scattered clouds and 73.53 °F</dd>\\n</dl>\\n',\n",
       " '\\n<dl>\\n<dt>Hotel Name</dt><dd>Bora-Bora Pearl Beach Resort & Spa</dd>\\n<dt>City</dt><dd>Faanui</dd>\\n<dt>Country</dt><dd>PF</dd>\\n<dt> Weather</dt><dd>few clouds and 80.85 °F</dd>\\n</dl>\\n',\n",
       " '\\n<dl>\\n<dt>Hotel Name</dt><dd>Floresta Amazonica Hotel</dd>\\n<dt>City</dt><dd>Alta Floresta</dd>\\n<dt>Country</dt><dd>BR</dd>\\n<dt> Weather</dt><dd>overcast clouds and 70.84 °F</dd>\\n</dl>\\n',\n",
       " '\\n<dl>\\n<dt>Hotel Name</dt><dd>Hotel Xaguate</dd>\\n<dt>City</dt><dd>Sao Filipe</dd>\\n<dt>Country</dt><dd>CV</dd>\\n<dt> Weather</dt><dd>broken clouds and 78.73 °F</dd>\\n</dl>\\n',\n",
       " '\\n<dl>\\n<dt>Hotel Name</dt><dd>Fangyuan Hotel</dd>\\n<dt>City</dt><dd>Jiaojiang</dd>\\n<dt>Country</dt><dd>CN</dd>\\n<dt> Weather</dt><dd>scattered clouds and 68.0 °F</dd>\\n</dl>\\n',\n",
       " '\\n<dl>\\n<dt>Hotel Name</dt><dd>Mavillah Apartment and Suites</dd>\\n<dt>City</dt><dd>Gboko</dd>\\n<dt>Country</dt><dd>NG</dd>\\n<dt> Weather</dt><dd>clear sky and 70.81 °F</dd>\\n</dl>\\n',\n",
       " '\\n<dl>\\n<dt>Hotel Name</dt><dd>Austral Hotel</dd>\\n<dt>City</dt><dd>Comodoro Rivadavia</dd>\\n<dt>Country</dt><dd>AR</dd>\\n<dt> Weather</dt><dd>clear sky and 66.06 °F</dd>\\n</dl>\\n',\n",
       " '\\n<dl>\\n<dt>Hotel Name</dt><dd>Hotel Juba</dd>\\n<dt>City</dt><dd>Mogadishu</dd>\\n<dt>Country</dt><dd>SO</dd>\\n<dt> Weather</dt><dd>scattered clouds and 80.47 °F</dd>\\n</dl>\\n',\n",
       " '\\n<dl>\\n<dt>Hotel Name</dt><dd>El Medina</dd>\\n<dt>City</dt><dd>Nouadhibou</dd>\\n<dt>Country</dt><dd>MR</dd>\\n<dt> Weather</dt><dd>clear sky and 66.18 °F</dd>\\n</dl>\\n',\n",
       " '\\n<dl>\\n<dt>Hotel Name</dt><dd>hotêl doufoulougou</dd>\\n<dt>City</dt><dd>Tabou</dd>\\n<dt>Country</dt><dd>CI</dd>\\n<dt> Weather</dt><dd>light rain and 77.5 °F</dd>\\n</dl>\\n',\n",
       " '\\n<dl>\\n<dt>Hotel Name</dt><dd>Complexo Sonho Real</dd>\\n<dt>City</dt><dd>Chokwe</dd>\\n<dt>Country</dt><dd>MZ</dd>\\n<dt> Weather</dt><dd>scattered clouds and 76.03 °F</dd>\\n</dl>\\n',\n",
       " '\\n<dl>\\n<dt>Hotel Name</dt><dd>Casa Dora, Bubaque</dd>\\n<dt>City</dt><dd>Bubaque</dd>\\n<dt>Country</dt><dd>GW</dd>\\n<dt> Weather</dt><dd>broken clouds and 82.56 °F</dd>\\n</dl>\\n',\n",
       " '\\n<dl>\\n<dt>Hotel Name</dt><dd>Maringe Lagoon Lodge</dd>\\n<dt>City</dt><dd>Buala</dd>\\n<dt>Country</dt><dd>SB</dd>\\n<dt> Weather</dt><dd>overcast clouds and 84.7 °F</dd>\\n</dl>\\n',\n",
       " '\\n<dl>\\n<dt>Hotel Name</dt><dd>nan</dd>\\n<dt>City</dt><dd>Lahij</dd>\\n<dt>Country</dt><dd>YE</dd>\\n<dt> Weather</dt><dd>clear sky and 74.14 °F</dd>\\n</dl>\\n',\n",
       " '\\n<dl>\\n<dt>Hotel Name</dt><dd>Alize Plage</dd>\\n<dt>City</dt><dd>Saint-Pierre</dd>\\n<dt>Country</dt><dd>RE</dd>\\n<dt> Weather</dt><dd>clear sky and 80.28 °F</dd>\\n</dl>\\n',\n",
       " '\\n<dl>\\n<dt>Hotel Name</dt><dd>Sandpiper Motel</dd>\\n<dt>City</dt><dd>Ulladulla</dd>\\n<dt>Country</dt><dd>AU</dd>\\n<dt> Weather</dt><dd>broken clouds and 68.38 °F</dd>\\n</dl>\\n',\n",
       " '\\n<dl>\\n<dt>Hotel Name</dt><dd>Hotel Marilu</dd>\\n<dt>City</dt><dd>Vila Do Maio</dd>\\n<dt>Country</dt><dd>CV</dd>\\n<dt> Weather</dt><dd>few clouds and 75.99 °F</dd>\\n</dl>\\n',\n",
       " '\\n<dl>\\n<dt>Hotel Name</dt><dd>nan</dd>\\n<dt>City</dt><dd>Thinadhoo</dd>\\n<dt>Country</dt><dd>MV</dd>\\n<dt> Weather</dt><dd>scattered clouds and 81.07 °F</dd>\\n</dl>\\n',\n",
       " '\\n<dl>\\n<dt>Hotel Name</dt><dd>Hotel Olako</dd>\\n<dt>City</dt><dd>Omboue</dd>\\n<dt>Country</dt><dd>GA</dd>\\n<dt> Weather</dt><dd>overcast clouds and 75.81 °F</dd>\\n</dl>\\n',\n",
       " '\\n<dl>\\n<dt>Hotel Name</dt><dd>Hotel Provincial</dd>\\n<dt>City</dt><dd>San Juan</dd>\\n<dt>Country</dt><dd>AR</dd>\\n<dt> Weather</dt><dd>clear sky and 73.18 °F</dd>\\n</dl>\\n',\n",
       " '\\n<dl>\\n<dt>Hotel Name</dt><dd>Chez Dydyce Guesthouse</dd>\\n<dt>City</dt><dd>Fayaoue</dd>\\n<dt>Country</dt><dd>NC</dd>\\n<dt> Weather</dt><dd>broken clouds and 80.26 °F</dd>\\n</dl>\\n',\n",
       " '\\n<dl>\\n<dt>Hotel Name</dt><dd>Welcomhotel By ITC Hotels, Port Blair - Premium Hotel Near the Airport | Idyllic Island Experience Vacation</dd>\\n<dt>City</dt><dd>Port Blair</dd>\\n<dt>Country</dt><dd>IN</dd>\\n<dt> Weather</dt><dd>heavy intensity rain and 84.24 °F</dd>\\n</dl>\\n',\n",
       " '\\n<dl>\\n<dt>Hotel Name</dt><dd>Tanna Lodge</dd>\\n<dt>City</dt><dd>Isangel</dd>\\n<dt>Country</dt><dd>VU</dd>\\n<dt> Weather</dt><dd>broken clouds and 86.11 °F</dd>\\n</dl>\\n',\n",
       " '\\n<dl>\\n<dt>Hotel Name</dt><dd>Hotel Mirage</dd>\\n<dt>City</dt><dd>Vilhena</dd>\\n<dt>Country</dt><dd>BR</dd>\\n<dt> Weather</dt><dd>overcast clouds and 67.57 °F</dd>\\n</dl>\\n',\n",
       " '\\n<dl>\\n<dt>Hotel Name</dt><dd>Foyer ADM</dd>\\n<dt>City</dt><dd>Mitsamiouli</dd>\\n<dt>Country</dt><dd>KM</dd>\\n<dt> Weather</dt><dd>few clouds and 82.69 °F</dd>\\n</dl>\\n',\n",
       " '\\n<dl>\\n<dt>Hotel Name</dt><dd>Pangil Beach Resort</dd>\\n<dt>City</dt><dd>Callaguip</dd>\\n<dt>Country</dt><dd>PH</dd>\\n<dt> Weather</dt><dd>broken clouds and 86.02 °F</dd>\\n</dl>\\n',\n",
       " '\\n<dl>\\n<dt>Hotel Name</dt><dd>nan</dd>\\n<dt>City</dt><dd>Dutlwe</dd>\\n<dt>Country</dt><dd>BW</dd>\\n<dt> Weather</dt><dd>overcast clouds and 75.34 °F</dd>\\n</dl>\\n',\n",
       " '\\n<dl>\\n<dt>Hotel Name</dt><dd>Hotel Lancelot</dd>\\n<dt>City</dt><dd>Arrecife</dd>\\n<dt>Country</dt><dd>ES</dd>\\n<dt> Weather</dt><dd>scattered clouds and 67.98 °F</dd>\\n</dl>\\n',\n",
       " '\\n<dl>\\n<dt>Hotel Name</dt><dd>ALETHEIA Appartement Sinnamary</dd>\\n<dt>City</dt><dd>Sinnamary</dd>\\n<dt>Country</dt><dd>GF</dd>\\n<dt> Weather</dt><dd>overcast clouds and 78.49 °F</dd>\\n</dl>\\n',\n",
       " '\\n<dl>\\n<dt>Hotel Name</dt><dd>Balandra Hotel</dd>\\n<dt>City</dt><dd>Manta</dd>\\n<dt>Country</dt><dd>EC</dd>\\n<dt> Weather</dt><dd>scattered clouds and 69.58 °F</dd>\\n</dl>\\n',\n",
       " '\\n<dl>\\n<dt>Hotel Name</dt><dd>Hotel Durval</dd>\\n<dt>City</dt><dd>Manicore</dd>\\n<dt>Country</dt><dd>BR</dd>\\n<dt> Weather</dt><dd>overcast clouds and 72.45 °F</dd>\\n</dl>\\n',\n",
       " '\\n<dl>\\n<dt>Hotel Name</dt><dd>Hotel Full Business</dd>\\n<dt>City</dt><dd>Mbanza-Ngungu</dd>\\n<dt>Country</dt><dd>CD</dd>\\n<dt> Weather</dt><dd>overcast clouds and 66.52 °F</dd>\\n</dl>\\n',\n",
       " '\\n<dl>\\n<dt>Hotel Name</dt><dd>Case de Passage De la Prefecture</dd>\\n<dt>City</dt><dd>Arlit</dd>\\n<dt>Country</dt><dd>NE</dd>\\n<dt> Weather</dt><dd>overcast clouds and 68.45 °F</dd>\\n</dl>\\n',\n",
       " '\\n<dl>\\n<dt>Hotel Name</dt><dd>Bonthe Holiday Village</dd>\\n<dt>City</dt><dd>Bonthe</dd>\\n<dt>Country</dt><dd>SL</dd>\\n<dt> Weather</dt><dd>broken clouds and 76.37 °F</dd>\\n</dl>\\n',\n",
       " '\\n<dl>\\n<dt>Hotel Name</dt><dd>Hotel Castelo</dd>\\n<dt>City</dt><dd>Cidreira</dd>\\n<dt>Country</dt><dd>BR</dd>\\n<dt> Weather</dt><dd>overcast clouds and 66.81 °F</dd>\\n</dl>\\n',\n",
       " '\\n<dl>\\n<dt>Hotel Name</dt><dd>Sur Plaza Hotel</dd>\\n<dt>City</dt><dd>Sur</dd>\\n<dt>Country</dt><dd>OM</dd>\\n<dt> Weather</dt><dd>scattered clouds and 81.09 °F</dd>\\n</dl>\\n',\n",
       " '\\n<dl>\\n<dt>Hotel Name</dt><dd>Mondkor Town, Bagbo Chiefdom, Bo District</dd>\\n<dt>City</dt><dd>Mattru</dd>\\n<dt>Country</dt><dd>SL</dd>\\n<dt> Weather</dt><dd>broken clouds and 73.06 °F</dd>\\n</dl>\\n',\n",
       " '\\n<dl>\\n<dt>Hotel Name</dt><dd>nan</dd>\\n<dt>City</dt><dd>Rey Bouba</dd>\\n<dt>Country</dt><dd>CM</dd>\\n<dt> Weather</dt><dd>clear sky and 68.11 °F</dd>\\n</dl>\\n',\n",
       " '\\n<dl>\\n<dt>Hotel Name</dt><dd>ibis Styles Karratha</dd>\\n<dt>City</dt><dd>Karratha</dd>\\n<dt>Country</dt><dd>AU</dd>\\n<dt> Weather</dt><dd>scattered clouds and 88.66 °F</dd>\\n</dl>\\n',\n",
       " '\\n<dl>\\n<dt>Hotel Name</dt><dd>El Salvial</dd>\\n<dt>City</dt><dd>Tomatlan</dd>\\n<dt>Country</dt><dd>MX</dd>\\n<dt> Weather</dt><dd>clear sky and 71.96 °F</dd>\\n</dl>\\n',\n",
       " '\\n<dl>\\n<dt>Hotel Name</dt><dd>Pirineos</dd>\\n<dt>City</dt><dd>San Cristobal</dd>\\n<dt>Country</dt><dd>VE</dd>\\n<dt> Weather</dt><dd>few clouds and 68.18 °F</dd>\\n</dl>\\n',\n",
       " '\\n<dl>\\n<dt>Hotel Name</dt><dd>janelas do mar</dd>\\n<dt>City</dt><dd>Trairi</dd>\\n<dt>Country</dt><dd>BR</dd>\\n<dt> Weather</dt><dd>broken clouds and 78.06 °F</dd>\\n</dl>\\n',\n",
       " '\\n<dl>\\n<dt>Hotel Name</dt><dd>Grage Hotel Bengkulu</dd>\\n<dt>City</dt><dd>Bengkulu</dd>\\n<dt>Country</dt><dd>ID</dd>\\n<dt> Weather</dt><dd>overcast clouds and 78.42 °F</dd>\\n</dl>\\n',\n",
       " '\\n<dl>\\n<dt>Hotel Name</dt><dd>Harrouni camp de passage</dd>\\n<dt>City</dt><dd>Bol</dd>\\n<dt>Country</dt><dd>TD</dd>\\n<dt> Weather</dt><dd>clear sky and 71.69 °F</dd>\\n</dl>\\n',\n",
       " '\\n<dl>\\n<dt>Hotel Name</dt><dd>Hotel Birendra Prabha</dd>\\n<dt>City</dt><dd>Ambikapur</dd>\\n<dt>Country</dt><dd>IN</dd>\\n<dt> Weather</dt><dd>scattered clouds and 71.29 °F</dd>\\n</dl>\\n',\n",
       " '\\n<dl>\\n<dt>Hotel Name</dt><dd>Leer Humanitarian Hub</dd>\\n<dt>City</dt><dd>Ler</dd>\\n<dt>Country</dt><dd>SS</dd>\\n<dt> Weather</dt><dd>scattered clouds and 77.68 °F</dd>\\n</dl>\\n',\n",
       " '\\n<dl>\\n<dt>Hotel Name</dt><dd>Hotel São Vicente</dd>\\n<dt>City</dt><dd>Araguaina</dd>\\n<dt>Country</dt><dd>BR</dd>\\n<dt> Weather</dt><dd>broken clouds and 76.57 °F</dd>\\n</dl>\\n',\n",
       " '\\n<dl>\\n<dt>Hotel Name</dt><dd>Posada Turistica Manapiare</dd>\\n<dt>City</dt><dd>Puerto Ayacucho</dd>\\n<dt>Country</dt><dd>VE</dd>\\n<dt> Weather</dt><dd>broken clouds and 73.85 °F</dd>\\n</dl>\\n',\n",
       " '\\n<dl>\\n<dt>Hotel Name</dt><dd>Novotel Phuket Resort</dd>\\n<dt>City</dt><dd>Kathu</dd>\\n<dt>Country</dt><dd>TH</dd>\\n<dt> Weather</dt><dd>overcast clouds and 84.02 °F</dd>\\n</dl>\\n',\n",
       " '\\n<dl>\\n<dt>Hotel Name</dt><dd>RedDoorz Syariah near Taman Berlabuh Tarakan</dd>\\n<dt>City</dt><dd>Tarakan</dd>\\n<dt>Country</dt><dd>ID</dd>\\n<dt> Weather</dt><dd>scattered clouds and 85.5 °F</dd>\\n</dl>\\n',\n",
       " '\\n<dl>\\n<dt>Hotel Name</dt><dd>御宿商旅-中山館</dd>\\n<dt>City</dt><dd>Kaohsiung</dd>\\n<dt>Country</dt><dd>TW</dd>\\n<dt> Weather</dt><dd>haze and 87.75 °F</dd>\\n</dl>\\n',\n",
       " '\\n<dl>\\n<dt>Hotel Name</dt><dd>Hotel Arena Blanca</dd>\\n<dt>City</dt><dd>San Andres</dd>\\n<dt>Country</dt><dd>CO</dd>\\n<dt> Weather</dt><dd>few clouds and 80.62 °F</dd>\\n</dl>\\n',\n",
       " '\\n<dl>\\n<dt>Hotel Name</dt><dd>Valle Aridane</dd>\\n<dt>City</dt><dd>Los Llanos De Aridane</dd>\\n<dt>Country</dt><dd>ES</dd>\\n<dt> Weather</dt><dd>overcast clouds and 65.95 °F</dd>\\n</dl>\\n',\n",
       " '\\n<dl>\\n<dt>Hotel Name</dt><dd>Hotel RIKMAN Continental</dd>\\n<dt>City</dt><dd>Tura</dd>\\n<dt>Country</dt><dd>IN</dd>\\n<dt> Weather</dt><dd>clear sky and 75.15 °F</dd>\\n</dl>\\n',\n",
       " '\\n<dl>\\n<dt>Hotel Name</dt><dd>Delta Sea Mall</dd>\\n<dt>City</dt><dd>Kipini</dd>\\n<dt>Country</dt><dd>KE</dd>\\n<dt> Weather</dt><dd>light rain and 80.38 °F</dd>\\n</dl>\\n',\n",
       " '\\n<dl>\\n<dt>Hotel Name</dt><dd>Pousada Camboinha</dd>\\n<dt>City</dt><dd>Cabedelo</dd>\\n<dt>Country</dt><dd>BR</dd>\\n<dt> Weather</dt><dd>overcast clouds and 74.07 °F</dd>\\n</dl>\\n',\n",
       " '\\n<dl>\\n<dt>Hotel Name</dt><dd>Penginapan Kim</dd>\\n<dt>City</dt><dd>Biak</dd>\\n<dt>Country</dt><dd>ID</dd>\\n<dt> Weather</dt><dd>overcast clouds and 82.58 °F</dd>\\n</dl>\\n',\n",
       " '\\n<dl>\\n<dt>Hotel Name</dt><dd>Le Rocher</dd>\\n<dt>City</dt><dd>Dzaoudzi</dd>\\n<dt>Country</dt><dd>YT</dd>\\n<dt> Weather</dt><dd>broken clouds and 82.29 °F</dd>\\n</dl>\\n',\n",
       " '\\n<dl>\\n<dt>Hotel Name</dt><dd>Amerik HOTEL</dd>\\n<dt>City</dt><dd>Salina Cruz</dd>\\n<dt>Country</dt><dd>MX</dd>\\n<dt> Weather</dt><dd>broken clouds and 74.86 °F</dd>\\n</dl>\\n',\n",
       " '\\n<dl>\\n<dt>Hotel Name</dt><dd>CeBlue Villas & Beach Resort</dd>\\n<dt>City</dt><dd>The Valley</dd>\\n<dt>Country</dt><dd>AI</dd>\\n<dt> Weather</dt><dd>clear sky and 80.46 °F</dd>\\n</dl>\\n',\n",
       " '\\n<dl>\\n<dt>Hotel Name</dt><dd>Hotel Edi</dd>\\n<dt>City</dt><dd>Ciudad Bolivar</dd>\\n<dt>Country</dt><dd>VE</dd>\\n<dt> Weather</dt><dd>clear sky and 74.86 °F</dd>\\n</dl>\\n',\n",
       " '\\n<dl>\\n<dt>Hotel Name</dt><dd>Americano</dd>\\n<dt>City</dt><dd>Arica</dd>\\n<dt>Country</dt><dd>CL</dd>\\n<dt> Weather</dt><dd>clear sky and 66.43 °F</dd>\\n</dl>\\n',\n",
       " '\\n<dl>\\n<dt>Hotel Name</dt><dd>Aipana Plaza Hotel</dd>\\n<dt>City</dt><dd>Boa Vista</dd>\\n<dt>Country</dt><dd>BR</dd>\\n<dt> Weather</dt><dd>scattered clouds and 78.78 °F</dd>\\n</dl>\\n',\n",
       " '\\n<dl>\\n<dt>Hotel Name</dt><dd>Waheed</dd>\\n<dt>City</dt><dd>Jalalabad</dd>\\n<dt>Country</dt><dd>AF</dd>\\n<dt> Weather</dt><dd>clear sky and 65.16 °F</dd>\\n</dl>\\n',\n",
       " '\\n<dl>\\n<dt>Hotel Name</dt><dd>Rydges Port Macquarie</dd>\\n<dt>City</dt><dd>Port Macquarie</dd>\\n<dt>Country</dt><dd>AU</dd>\\n<dt> Weather</dt><dd>clear sky and 73.89 °F</dd>\\n</dl>\\n',\n",
       " '\\n<dl>\\n<dt>Hotel Name</dt><dd>Apartamentos Castelli 90</dd>\\n<dt>City</dt><dd>Santiago Del Estero</dd>\\n<dt>Country</dt><dd>AR</dd>\\n<dt> Weather</dt><dd>clear sky and 67.15 °F</dd>\\n</dl>\\n',\n",
       " '\\n<dl>\\n<dt>Hotel Name</dt><dd>OYO 3177 Wisma Lintang</dd>\\n<dt>City</dt><dd>Metro</dd>\\n<dt>Country</dt><dd>ID</dd>\\n<dt> Weather</dt><dd>overcast clouds and 84.88 °F</dd>\\n</dl>\\n',\n",
       " '\\n<dl>\\n<dt>Hotel Name</dt><dd>Leonardo Family Beach House 1</dd>\\n<dt>City</dt><dd>Pundaguitan</dd>\\n<dt>Country</dt><dd>PH</dd>\\n<dt> Weather</dt><dd>overcast clouds and 80.98 °F</dd>\\n</dl>\\n',\n",
       " '\\n<dl>\\n<dt>Hotel Name</dt><dd>Aviador Hotel Boutique</dd>\\n<dt>City</dt><dd>Santa Cruz</dd>\\n<dt>Country</dt><dd>BO</dd>\\n<dt> Weather</dt><dd>overcast clouds and 71.06 °F</dd>\\n</dl>\\n',\n",
       " '\\n<dl>\\n<dt>Hotel Name</dt><dd>Mercure Padang</dd>\\n<dt>City</dt><dd>Padang</dd>\\n<dt>Country</dt><dd>ID</dd>\\n<dt> Weather</dt><dd>moderate rain and 75.25 °F</dd>\\n</dl>\\n',\n",
       " '\\n<dl>\\n<dt>Hotel Name</dt><dd>Lahaina Shores Beach Resort</dd>\\n<dt>City</dt><dd>Lahaina</dd>\\n<dt>Country</dt><dd>US</dd>\\n<dt> Weather</dt><dd>clear sky and 76.8 °F</dd>\\n</dl>\\n',\n",
       " '\\n<dl>\\n<dt>Hotel Name</dt><dd>Sapphire City Motor Inn</dd>\\n<dt>City</dt><dd>Inverell</dd>\\n<dt>Country</dt><dd>AU</dd>\\n<dt> Weather</dt><dd>scattered clouds and 79.66 °F</dd>\\n</dl>\\n',\n",
       " '\\n<dl>\\n<dt>Hotel Name</dt><dd>Will T Place</dd>\\n<dt>City</dt><dd>Bodden Town</dd>\\n<dt>Country</dt><dd>KY</dd>\\n<dt> Weather</dt><dd>broken clouds and 81.93 °F</dd>\\n</dl>\\n',\n",
       " '\\n<dl>\\n<dt>Hotel Name</dt><dd>Hostal Morales</dd>\\n<dt>City</dt><dd>Camana</dd>\\n<dt>Country</dt><dd>PE</dd>\\n<dt> Weather</dt><dd>overcast clouds and 67.37 °F</dd>\\n</dl>\\n',\n",
       " '\\n<dl>\\n<dt>Hotel Name</dt><dd>CASA DE LA PERRA</dd>\\n<dt>City</dt><dd>Acajutla</dd>\\n<dt>Country</dt><dd>SV</dd>\\n<dt> Weather</dt><dd>scattered clouds and 77.76 °F</dd>\\n</dl>\\n',\n",
       " '\\n<dl>\\n<dt>Hotel Name</dt><dd>Hotel California Petatlán</dd>\\n<dt>City</dt><dd>Petatlan</dd>\\n<dt>Country</dt><dd>MX</dd>\\n<dt> Weather</dt><dd>few clouds and 74.62 °F</dd>\\n</dl>\\n',\n",
       " '\\n<dl>\\n<dt>Hotel Name</dt><dd>Hotel Capriccio Mauá</dd>\\n<dt>City</dt><dd>Maua</dd>\\n<dt>Country</dt><dd>BR</dd>\\n<dt> Weather</dt><dd>light rain and 68.36 °F</dd>\\n</dl>\\n',\n",
       " '\\n<dl>\\n<dt>Hotel Name</dt><dd>nan</dd>\\n<dt>City</dt><dd>Abomsa</dd>\\n<dt>Country</dt><dd>ET</dd>\\n<dt> Weather</dt><dd>overcast clouds and 69.94 °F</dd>\\n</dl>\\n',\n",
       " '\\n<dl>\\n<dt>Hotel Name</dt><dd>Green leaf</dd>\\n<dt>City</dt><dd>Kavaratti</dd>\\n<dt>Country</dt><dd>IN</dd>\\n<dt> Weather</dt><dd>scattered clouds and 79.77 °F</dd>\\n</dl>\\n',\n",
       " '\\n<dl>\\n<dt>Hotel Name</dt><dd>Hotel Nusantara I</dd>\\n<dt>City</dt><dd>Nabire</dd>\\n<dt>Country</dt><dd>ID</dd>\\n<dt> Weather</dt><dd>overcast clouds and 79.09 °F</dd>\\n</dl>\\n',\n",
       " '\\n<dl>\\n<dt>Hotel Name</dt><dd>nan</dd>\\n<dt>City</dt><dd>Mgandu</dd>\\n<dt>Country</dt><dd>TZ</dd>\\n<dt> Weather</dt><dd>overcast clouds and 66.67 °F</dd>\\n</dl>\\n',\n",
       " '\\n<dl>\\n<dt>Hotel Name</dt><dd>Rio Xingu Camping</dd>\\n<dt>City</dt><dd>Sao Felix Do Xingu</dd>\\n<dt>Country</dt><dd>BR</dd>\\n<dt> Weather</dt><dd>broken clouds and 71.53 °F</dd>\\n</dl>\\n',\n",
       " '\\n<dl>\\n<dt>Hotel Name</dt><dd>nan</dd>\\n<dt>City</dt><dd>Merauke</dd>\\n<dt>Country</dt><dd>ID</dd>\\n<dt> Weather</dt><dd>overcast clouds and 84.9 °F</dd>\\n</dl>\\n',\n",
       " '\\n<dl>\\n<dt>Hotel Name</dt><dd>SPOT ON 72723 Pathanjali Ayurveda Yoga Centre( Dreams Beach Resort)</dd>\\n<dt>City</dt><dd>Varkkallai</dd>\\n<dt>Country</dt><dd>IN</dd>\\n<dt> Weather</dt><dd>few clouds and 85.78 °F</dd>\\n</dl>\\n',\n",
       " '\\n<dl>\\n<dt>Hotel Name</dt><dd>ဟိုတယ် မန်မိုရီ</dd>\\n<dt>City</dt><dd>Akyab</dd>\\n<dt>Country</dt><dd>MM</dd>\\n<dt> Weather</dt><dd>clear sky and 82.29 °F</dd>\\n</dl>\\n',\n",
       " '\\n<dl>\\n<dt>Hotel Name</dt><dd>Residencia Univeresitaria</dd>\\n<dt>City</dt><dd>Benemerito De Las Americas</dd>\\n<dt>Country</dt><dd>MX</dd>\\n<dt> Weather</dt><dd>overcast clouds and 68.49 °F</dd>\\n</dl>\\n',\n",
       " '\\n<dl>\\n<dt>Hotel Name</dt><dd>คงทองทิพย์รีสอร์ท</dd>\\n<dt>City</dt><dd>U Thong</dd>\\n<dt>Country</dt><dd>TH</dd>\\n<dt> Weather</dt><dd>broken clouds and 86.68 °F</dd>\\n</dl>\\n',\n",
       " '\\n<dl>\\n<dt>Hotel Name</dt><dd>Iglesia morava renovada</dd>\\n<dt>City</dt><dd>Iralaya</dd>\\n<dt>Country</dt><dd>HN</dd>\\n<dt> Weather</dt><dd>light rain and 78.21 °F</dd>\\n</dl>\\n',\n",
       " '\\n<dl>\\n<dt>Hotel Name</dt><dd>Le Rocher de Tahiti</dd>\\n<dt>City</dt><dd>Tiarei</dd>\\n<dt>Country</dt><dd>PF</dd>\\n<dt> Weather</dt><dd>overcast clouds and 78.82 °F</dd>\\n</dl>\\n',\n",
       " '\\n<dl>\\n<dt>Hotel Name</dt><dd>K G N HOTEL</dd>\\n<dt>City</dt><dd>Dhanwar</dd>\\n<dt>Country</dt><dd>IN</dd>\\n<dt> Weather</dt><dd>clear sky and 74.17 °F</dd>\\n</dl>\\n',\n",
       " '\\n<dl>\\n<dt>Hotel Name</dt><dd>Shopping Motel (Adults Only)</dd>\\n<dt>City</dt><dd>Santa Maria Do Para</dd>\\n<dt>Country</dt><dd>BR</dd>\\n<dt> Weather</dt><dd>overcast clouds and 75.9 °F</dd>\\n</dl>\\n',\n",
       " '\\n<dl>\\n<dt>Hotel Name</dt><dd>International Lodge Motel</dd>\\n<dt>City</dt><dd>Mackay</dd>\\n<dt>Country</dt><dd>AU</dd>\\n<dt> Weather</dt><dd>broken clouds and 88.68 °F</dd>\\n</dl>\\n',\n",
       " '\\n<dl>\\n<dt>Hotel Name</dt><dd>Alte Welkom Guesthouse</dd>\\n<dt>City</dt><dd>Klerksdorp</dd>\\n<dt>Country</dt><dd>ZA</dd>\\n<dt> Weather</dt><dd>scattered clouds and 66.06 °F</dd>\\n</dl>\\n',\n",
       " '\\n<dl>\\n<dt>Hotel Name</dt><dd>Ruth Guest House</dd>\\n<dt>City</dt><dd>Lukulu</dd>\\n<dt>Country</dt><dd>ZM</dd>\\n<dt> Weather</dt><dd>light rain and 67.71 °F</dd>\\n</dl>\\n',\n",
       " '\\n<dl>\\n<dt>Hotel Name</dt><dd>Hotel Vila Galé Cascais</dd>\\n<dt>City</dt><dd>Cascais</dd>\\n<dt>Country</dt><dd>PT</dd>\\n<dt> Weather</dt><dd>overcast clouds and 65.52 °F</dd>\\n</dl>\\n',\n",
       " '\\n<dl>\\n<dt>Hotel Name</dt><dd>Bungalow 63</dd>\\n<dt>City</dt><dd>Hambantota</dd>\\n<dt>Country</dt><dd>LK</dd>\\n<dt> Weather</dt><dd>few clouds and 84.54 °F</dd>\\n</dl>\\n',\n",
       " '\\n<dl>\\n<dt>Hotel Name</dt><dd>Imagination Island</dd>\\n<dt>City</dt><dd>Gizo</dd>\\n<dt>Country</dt><dd>SB</dd>\\n<dt> Weather</dt><dd>few clouds and 85.71 °F</dd>\\n</dl>\\n',\n",
       " '\\n<dl>\\n<dt>Hotel Name</dt><dd>JABIR HOTEL</dd>\\n<dt>City</dt><dd>Bandarbeyla</dd>\\n<dt>Country</dt><dd>SO</dd>\\n<dt> Weather</dt><dd>broken clouds and 78.87 °F</dd>\\n</dl>\\n',\n",
       " '\\n<dl>\\n<dt>Hotel Name</dt><dd>Puri Brata</dd>\\n<dt>City</dt><dd>Bambanglipuro</dd>\\n<dt>Country</dt><dd>ID</dd>\\n<dt> Weather</dt><dd>overcast clouds and 83.25 °F</dd>\\n</dl>\\n',\n",
       " '\\n<dl>\\n<dt>Hotel Name</dt><dd>Fuente del Guania Hotel de Lujo</dd>\\n<dt>City</dt><dd>Inirida</dd>\\n<dt>Country</dt><dd>CO</dd>\\n<dt> Weather</dt><dd>broken clouds and 73.65 °F</dd>\\n</dl>\\n',\n",
       " '\\n<dl>\\n<dt>Hotel Name</dt><dd>LIKWALE LODGE</dd>\\n<dt>City</dt><dd>Mayumba</dd>\\n<dt>Country</dt><dd>GA</dd>\\n<dt> Weather</dt><dd>overcast clouds and 76.1 °F</dd>\\n</dl>\\n']"
      ]
     },
     "execution_count": 9,
     "metadata": {},
     "output_type": "execute_result"
    }
   ],
   "source": [
    "hotel_info"
   ]
  },
  {
   "cell_type": "code",
   "execution_count": 10,
   "metadata": {},
   "outputs": [
    {
     "data": {
      "application/vnd.jupyter.widget-view+json": {
       "model_id": "cff40bdc03364763814833ac18a43879",
       "version_major": 2,
       "version_minor": 0
      },
      "text/plain": [
       "Figure(layout=FigureLayout(height='420px'))"
      ]
     },
     "metadata": {},
     "output_type": "display_data"
    }
   ],
   "source": [
    "# Add a marker layer for each city to the map.\n",
    "marker_layer = gmaps.marker_layer(locations, info_box_content=hotel_info)\n",
    "fig = gmaps.figure()\n",
    "fig.add_layer(marker_layer)\n",
    "\n",
    "# Display the figure\n",
    "fig"
   ]
  },
  {
   "cell_type": "markdown",
   "metadata": {},
   "source": [
    "## From the vacation search map, *choose four cities* that a customer might want to visit. They should be close together and in the same country."
   ]
  },
  {
   "cell_type": "code",
   "execution_count": 11,
   "metadata": {},
   "outputs": [],
   "source": [
    "# Create DataFrames for each city by filtering the 'vacation_df' using the loc method. \n",
    "# The starting and ending city should be the same city.\n",
    "vacation_start = vacation_df.loc[vacation_df['City'] == 'Belmonte']\n",
    "vacation_end = vacation_df.loc[vacation_df['City'] == 'Belmonte']\n",
    "vacation_stop1 = vacation_df.loc[vacation_df['City'] == 'Vilhena']\n",
    "vacation_stop2 = vacation_df.loc[vacation_df['City'] == 'Alta Floresta']\n",
    "vacation_stop3 = vacation_df.loc[vacation_df['City'] == 'Entre Rios']\n"
   ]
  },
  {
   "cell_type": "markdown",
   "metadata": {},
   "source": [
    "## Use the `to_numpy()` function and list indexing to write code to retrieve the latitude-longitude pairs as tuples from each city DataFrame."
   ]
  },
  {
   "cell_type": "code",
   "execution_count": 12,
   "metadata": {},
   "outputs": [
    {
     "data": {
      "text/html": [
       "<div>\n",
       "<style scoped>\n",
       "    .dataframe tbody tr th:only-of-type {\n",
       "        vertical-align: middle;\n",
       "    }\n",
       "\n",
       "    .dataframe tbody tr th {\n",
       "        vertical-align: top;\n",
       "    }\n",
       "\n",
       "    .dataframe thead th {\n",
       "        text-align: right;\n",
       "    }\n",
       "</style>\n",
       "<table border=\"1\" class=\"dataframe\">\n",
       "  <thead>\n",
       "    <tr style=\"text-align: right;\">\n",
       "      <th></th>\n",
       "      <th>City_ID</th>\n",
       "      <th>City</th>\n",
       "      <th>Country</th>\n",
       "      <th>Max Temp</th>\n",
       "      <th>Lat</th>\n",
       "      <th>Lng</th>\n",
       "      <th>Weather Description</th>\n",
       "      <th>Hotel Name</th>\n",
       "    </tr>\n",
       "  </thead>\n",
       "  <tbody>\n",
       "    <tr>\n",
       "      <th>0</th>\n",
       "      <td>0</td>\n",
       "      <td>Belmonte</td>\n",
       "      <td>BR</td>\n",
       "      <td>72.28</td>\n",
       "      <td>-15.8631</td>\n",
       "      <td>-38.8828</td>\n",
       "      <td>overcast clouds</td>\n",
       "      <td>Pousada Monte Carmelo O Pão</td>\n",
       "    </tr>\n",
       "  </tbody>\n",
       "</table>\n",
       "</div>"
      ],
      "text/plain": [
       "   City_ID      City Country  Max Temp      Lat      Lng Weather Description  \\\n",
       "0        0  Belmonte      BR     72.28 -15.8631 -38.8828     overcast clouds   \n",
       "\n",
       "                    Hotel Name  \n",
       "0  Pousada Monte Carmelo O Pão  "
      ]
     },
     "execution_count": 12,
     "metadata": {},
     "output_type": "execute_result"
    }
   ],
   "source": [
    "vacation_start"
   ]
  },
  {
   "cell_type": "code",
   "execution_count": 13,
   "metadata": {},
   "outputs": [
    {
     "data": {
      "text/html": [
       "<div>\n",
       "<style scoped>\n",
       "    .dataframe tbody tr th:only-of-type {\n",
       "        vertical-align: middle;\n",
       "    }\n",
       "\n",
       "    .dataframe tbody tr th {\n",
       "        vertical-align: top;\n",
       "    }\n",
       "\n",
       "    .dataframe thead th {\n",
       "        text-align: right;\n",
       "    }\n",
       "</style>\n",
       "<table border=\"1\" class=\"dataframe\">\n",
       "  <thead>\n",
       "    <tr style=\"text-align: right;\">\n",
       "      <th></th>\n",
       "      <th>City_ID</th>\n",
       "      <th>City</th>\n",
       "      <th>Country</th>\n",
       "      <th>Max Temp</th>\n",
       "      <th>Lat</th>\n",
       "      <th>Lng</th>\n",
       "      <th>Weather Description</th>\n",
       "      <th>Hotel Name</th>\n",
       "    </tr>\n",
       "  </thead>\n",
       "  <tbody>\n",
       "    <tr>\n",
       "      <th>11</th>\n",
       "      <td>28</td>\n",
       "      <td>Entre Rios</td>\n",
       "      <td>BR</td>\n",
       "      <td>68.88</td>\n",
       "      <td>-11.9419</td>\n",
       "      <td>-38.0844</td>\n",
       "      <td>scattered clouds</td>\n",
       "      <td>Pousada Porteira</td>\n",
       "    </tr>\n",
       "  </tbody>\n",
       "</table>\n",
       "</div>"
      ],
      "text/plain": [
       "    City_ID        City Country  Max Temp      Lat      Lng  \\\n",
       "11       28  Entre Rios      BR     68.88 -11.9419 -38.0844   \n",
       "\n",
       "   Weather Description        Hotel Name  \n",
       "11    scattered clouds  Pousada Porteira  "
      ]
     },
     "execution_count": 13,
     "metadata": {},
     "output_type": "execute_result"
    }
   ],
   "source": [
    "vacation_stop3"
   ]
  },
  {
   "cell_type": "code",
   "execution_count": 14,
   "metadata": {},
   "outputs": [
    {
     "name": "stdout",
     "output_type": "stream",
     "text": [
      "(-15.8631, -38.8828)\n",
      "(-15.8631, -38.8828)\n",
      "(-12.7406, -60.1458)\n",
      "(-9.8756, -56.0861)\n",
      "(-11.9419, -38.0844)\n"
     ]
    }
   ],
   "source": [
    "# Get the latitude-longitude pairs as tuples from each city DataFrame using the to_numpy function and list indexing.\n",
    "start = vacation_start[\"Lat\"].to_numpy()[0], vacation_start[\"Lng\"].to_numpy()[0]\n",
    "end = vacation_end[\"Lat\"].to_numpy()[0], vacation_end[\"Lng\"].to_numpy()[0]\n",
    "stop1 = vacation_stop1[\"Lat\"].to_numpy()[0], vacation_stop1[\"Lng\"].to_numpy()[0]\n",
    "stop2 = vacation_stop2[\"Lat\"].to_numpy()[0], vacation_stop2[\"Lng\"].to_numpy()[0]\n",
    "stop3 = vacation_stop3[\"Lat\"].to_numpy()[0], vacation_stop3[\"Lng\"].to_numpy()[0]\n",
    "\n",
    "print(start)\n",
    "print(end)\n",
    "print(stop1)\n",
    "print(stop2)\n",
    "print(stop3)"
   ]
  },
  {
   "cell_type": "markdown",
   "metadata": {},
   "source": [
    "## Use the [gmaps documentation](https://jupyter-gmaps.readthedocs.io/en/latest/tutorial.html#directions-layer) to create a directions layer map using the variables from the previous step. Where the starting and ending city are the same city, the `waypoints` are the three other cities, and the `travel_mode` is either `\"DRIVING\"`, `\"BICYCLING\"`, or `\"WALKING\"`."
   ]
  },
  {
   "cell_type": "code",
   "execution_count": 15,
   "metadata": {
    "tags": []
   },
   "outputs": [
    {
     "data": {
      "application/vnd.jupyter.widget-view+json": {
       "model_id": "39a1917b4b344457ae5d1731e91cd45d",
       "version_major": 2,
       "version_minor": 0
      },
      "text/plain": [
       "Figure(layout=FigureLayout(height='420px'))"
      ]
     },
     "metadata": {},
     "output_type": "display_data"
    }
   ],
   "source": [
    "# Define a new figure object\n",
    "fig = gmaps.figure()\n",
    "\n",
    "# Create a direction layer map using the start and end latitude-longitude pairs, and stop1, stop2, and stop3 as the waypoints.\n",
    "# The travel_mode should be \"DRIVING\", \"BICYCLING\", or \"WALKING\".\n",
    "vacation_itinerary = gmaps.directions_layer(start,end,waypoints=[stop1,stop2,stop3], travel_mode='DRIVING')\n",
    "\n",
    "# Add the layer to the map\n",
    "fig.add_layer(vacation_itinerary)\n",
    "\n",
    "# Display the map\n",
    "fig"
   ]
  },
  {
   "cell_type": "markdown",
   "metadata": {},
   "source": [
    "## Use the provided `concat()` function code snippet to combine the four separate city DataFrames into one DataFrame."
   ]
  },
  {
   "cell_type": "code",
   "execution_count": 16,
   "metadata": {},
   "outputs": [
    {
     "data": {
      "text/html": [
       "<div>\n",
       "<style scoped>\n",
       "    .dataframe tbody tr th:only-of-type {\n",
       "        vertical-align: middle;\n",
       "    }\n",
       "\n",
       "    .dataframe tbody tr th {\n",
       "        vertical-align: top;\n",
       "    }\n",
       "\n",
       "    .dataframe thead th {\n",
       "        text-align: right;\n",
       "    }\n",
       "</style>\n",
       "<table border=\"1\" class=\"dataframe\">\n",
       "  <thead>\n",
       "    <tr style=\"text-align: right;\">\n",
       "      <th></th>\n",
       "      <th>City_ID</th>\n",
       "      <th>City</th>\n",
       "      <th>Country</th>\n",
       "      <th>Max Temp</th>\n",
       "      <th>Lat</th>\n",
       "      <th>Lng</th>\n",
       "      <th>Weather Description</th>\n",
       "      <th>Hotel Name</th>\n",
       "    </tr>\n",
       "  </thead>\n",
       "  <tbody>\n",
       "    <tr>\n",
       "      <th>0</th>\n",
       "      <td>0</td>\n",
       "      <td>Belmonte</td>\n",
       "      <td>BR</td>\n",
       "      <td>72.28</td>\n",
       "      <td>-15.8631</td>\n",
       "      <td>-38.8828</td>\n",
       "      <td>overcast clouds</td>\n",
       "      <td>Pousada Monte Carmelo O Pão</td>\n",
       "    </tr>\n",
       "    <tr>\n",
       "      <th>1</th>\n",
       "      <td>397</td>\n",
       "      <td>Vilhena</td>\n",
       "      <td>BR</td>\n",
       "      <td>67.57</td>\n",
       "      <td>-12.7406</td>\n",
       "      <td>-60.1458</td>\n",
       "      <td>overcast clouds</td>\n",
       "      <td>Hotel Mirage</td>\n",
       "    </tr>\n",
       "    <tr>\n",
       "      <th>2</th>\n",
       "      <td>350</td>\n",
       "      <td>Alta Floresta</td>\n",
       "      <td>BR</td>\n",
       "      <td>70.84</td>\n",
       "      <td>-9.8756</td>\n",
       "      <td>-56.0861</td>\n",
       "      <td>overcast clouds</td>\n",
       "      <td>Floresta Amazonica Hotel</td>\n",
       "    </tr>\n",
       "    <tr>\n",
       "      <th>3</th>\n",
       "      <td>28</td>\n",
       "      <td>Entre Rios</td>\n",
       "      <td>BR</td>\n",
       "      <td>68.88</td>\n",
       "      <td>-11.9419</td>\n",
       "      <td>-38.0844</td>\n",
       "      <td>scattered clouds</td>\n",
       "      <td>Pousada Porteira</td>\n",
       "    </tr>\n",
       "  </tbody>\n",
       "</table>\n",
       "</div>"
      ],
      "text/plain": [
       "   City_ID           City Country  Max Temp      Lat      Lng  \\\n",
       "0        0       Belmonte      BR     72.28 -15.8631 -38.8828   \n",
       "1      397        Vilhena      BR     67.57 -12.7406 -60.1458   \n",
       "2      350  Alta Floresta      BR     70.84  -9.8756 -56.0861   \n",
       "3       28     Entre Rios      BR     68.88 -11.9419 -38.0844   \n",
       "\n",
       "  Weather Description                   Hotel Name  \n",
       "0     overcast clouds  Pousada Monte Carmelo O Pão  \n",
       "1     overcast clouds                 Hotel Mirage  \n",
       "2     overcast clouds     Floresta Amazonica Hotel  \n",
       "3    scattered clouds             Pousada Porteira  "
      ]
     },
     "execution_count": 16,
     "metadata": {},
     "output_type": "execute_result"
    }
   ],
   "source": [
    "#  Combine the four city DataFrames into one DataFrame using the concat() function.\n",
    "itinerary_df = pd.concat(\n",
    "    [\n",
    "        vacation_start,\n",
    "        vacation_stop1,\n",
    "        vacation_stop2,\n",
    "        vacation_stop3,\n",
    "],\n",
    "    ignore_index = True\n",
    ")\n",
    "\n",
    "# Display sample data\n",
    "itinerary_df"
   ]
  },
  {
   "cell_type": "markdown",
   "metadata": {},
   "source": [
    "## Refactor the code from Step 6 to create a new marker layer map of the cities on the travel route."
   ]
  },
  {
   "cell_type": "code",
   "execution_count": 17,
   "metadata": {},
   "outputs": [],
   "source": [
    "# Review the formatting template\n",
    "info_box_template = \"\"\"\n",
    "<dl>\n",
    "<dt>Hotel Name</dt><dd>{Hotel Name}</dd>\n",
    "<dt>City</dt><dd>{City}</dd>\n",
    "<dt>Country</dt><dd>{Country}</dd>\n",
    "<dt> Weather</dt><dd>{Weather Description} and {Max Temp} °F</dd>\n",
    "</dl>\n",
    "\"\"\"\n",
    "\n",
    "# Get the data from each row and add it to the formatting template and store the data in a list\n",
    "hotel_info = [info_box_template.format(**row) for index, row in itinerary_df.iterrows()]\n",
    "\n",
    "# Get the latitude and longitude from each row and store in a new DataFrame.\n",
    "locations = itinerary_df[['Lat', 'Lng']]"
   ]
  },
  {
   "cell_type": "code",
   "execution_count": 18,
   "metadata": {},
   "outputs": [
    {
     "data": {
      "application/vnd.jupyter.widget-view+json": {
       "model_id": "9d0b5a0d1c9641e0a75c7d6fff47a908",
       "version_major": 2,
       "version_minor": 0
      },
      "text/plain": [
       "Figure(layout=FigureLayout(height='420px'))"
      ]
     },
     "metadata": {},
     "output_type": "display_data"
    }
   ],
   "source": [
    "# Add a marker layer for each city to the map.\n",
    "marker_layer =  gmaps.marker_layer(locations, info_box_content=hotel_info)\n",
    "\n",
    "# Define a new figure object\n",
    "fig = gmaps.figure()\n",
    "\n",
    "# Add the layer to the map\n",
    "fig.add_layer(marker_layer)\n",
    "\n",
    "# Display the map\n",
    "fig"
   ]
  }
 ],
 "metadata": {
  "kernelspec": {
   "display_name": "Python 3 (ipykernel)",
   "language": "python",
   "name": "python3"
  },
  "language_info": {
   "codemirror_mode": {
    "name": "ipython",
    "version": 3
   },
   "file_extension": ".py",
   "mimetype": "text/x-python",
   "name": "python",
   "nbconvert_exporter": "python",
   "pygments_lexer": "ipython3",
   "version": "3.9.12"
  },
  "latex_envs": {
   "LaTeX_envs_menu_present": true,
   "autoclose": false,
   "autocomplete": true,
   "bibliofile": "biblio.bib",
   "cite_by": "apalike",
   "current_citInitial": 1,
   "eqLabelWithNumbers": true,
   "eqNumInitial": 1,
   "hotkeys": {
    "equation": "Ctrl-E",
    "itemize": "Ctrl-I"
   },
   "labels_anchors": false,
   "latex_user_defs": false,
   "report_style_numbering": false,
   "user_envs_cfg": false
  }
 },
 "nbformat": 4,
 "nbformat_minor": 4
}
